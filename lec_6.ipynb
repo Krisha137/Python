{
 "cells": [
  {
   "cell_type": "markdown",
   "metadata": {},
   "source": [
    "# WRP to accept a gender and number of days and display the ages acording to the given table¶"
   ]
  },
  {
   "cell_type": "code",
   "execution_count": 1,
   "metadata": {},
   "outputs": [
    {
     "name": "stdout",
     "output_type": "stream",
     "text": [
      "Enter Age : 25\n",
      "Enter Gender : m\n",
      "Enter Days : 20\n",
      "Wages :  14000\n"
     ]
    }
   ],
   "source": [
    "# Age                gender                  Wages/day\n",
    "#>=18 and <30        m                       700\n",
    "#                    f                     750\n",
    "#>=30 and <=40       m                       800\n",
    "#                    f                       850\n",
    "\n",
    "age=int(input(\"Enter Age : \"))\n",
    "gender=input(\"Enter Gender : \")\n",
    "Day=int(input(\"Enter Days : \"))\n",
    "if age>=18 and age<30 :\n",
    "    if gender==\"m\":\n",
    "        wages=Day*700\n",
    "    elif gender==\"f\":\n",
    "        wages=Day*750\n",
    "    else:\n",
    "        print(\"Plaese Enter Valid Gender (m/f)\")\n",
    "elif age>=30 and age<=40:\n",
    "    if gender==\"m\":\n",
    "        wages=Day*800\n",
    "    elif gender==\"f\":\n",
    "        wages=Day*850\n",
    "    else:\n",
    "        print(\"Plaese Enter Valid Gender (m/f)\")\n",
    "else:\n",
    "    print(\"Please Enter valid Age between 18 to 40\")\n",
    "print(\"Wages : \",wages)"
   ]
  },
  {
   "cell_type": "code",
   "execution_count": 2,
   "metadata": {},
   "outputs": [
    {
     "name": "stdout",
     "output_type": "stream",
     "text": [
      "Enter Age : 25\n",
      "Enter Gender : f\n",
      "Enter Days : 20\n",
      "Wages :  15000\n"
     ]
    }
   ],
   "source": [
    "age=int(input(\"Enter Age : \"))\n",
    "gender=input(\"Enter Gender : \")\n",
    "Day=int(input(\"Enter Days : \"))\n",
    "if age>=18 and age<30 :\n",
    "    if gender==\"m\":\n",
    "        wages=Day*700\n",
    "    elif gender==\"f\":\n",
    "        wages=Day*750\n",
    "    else:\n",
    "        print(\"Plaese Enter Valid Gender (m/f)\")\n",
    "elif age>=30 and age<=40:\n",
    "    if gender==\"m\":\n",
    "        wages=Day*800\n",
    "    elif gender==\"f\":\n",
    "        wages=Day*850\n",
    "    else:\n",
    "        print(\"Plaese Enter Valid Gender (m/f)\")\n",
    "else:\n",
    "    print(\"Please Enter valid Age between 18 to 40\")\n",
    "print(\"Wages : \",wages)"
   ]
  },
  {
   "cell_type": "code",
   "execution_count": 3,
   "metadata": {},
   "outputs": [
    {
     "name": "stdout",
     "output_type": "stream",
     "text": [
      "Enter Age : 35\n",
      "Enter Gender : m\n",
      "Enter Days : 20\n",
      "Wages :  16000\n"
     ]
    }
   ],
   "source": [
    "age=int(input(\"Enter Age : \"))\n",
    "gender=input(\"Enter Gender : \")\n",
    "Day=int(input(\"Enter Days : \"))\n",
    "if age>=18 and age<30 :\n",
    "    if gender==\"m\":\n",
    "        wages=Day*700\n",
    "    elif gender==\"f\":\n",
    "        wages=Day*750\n",
    "    else:\n",
    "        print(\"Plaese Enter Valid Gender (m/f)\")\n",
    "elif age>=30 and age<=40:\n",
    "    if gender==\"m\":\n",
    "        wages=Day*800\n",
    "    elif gender==\"f\":\n",
    "        wages=Day*850\n",
    "    else:\n",
    "        print(\"Plaese Enter Valid Gender (m/f)\")\n",
    "else:\n",
    "    print(\"Please Enter valid Age between 18 to 40\")\n",
    "print(\"Wages : \",wages)"
   ]
  },
  {
   "cell_type": "code",
   "execution_count": 4,
   "metadata": {},
   "outputs": [
    {
     "name": "stdout",
     "output_type": "stream",
     "text": [
      "Enter Age : 35\n",
      "Enter Gender : f\n",
      "Enter Days : 20\n",
      "Wages :  17000\n"
     ]
    }
   ],
   "source": [
    "age=int(input(\"Enter Age : \"))\n",
    "gender=input(\"Enter Gender : \")\n",
    "Day=int(input(\"Enter Days : \"))\n",
    "if age>=18 and age<30 :\n",
    "    if gender==\"m\":\n",
    "        wages=Day*700\n",
    "    elif gender==\"f\":\n",
    "        wages=Day*750\n",
    "    else:\n",
    "        print(\"Plaese Enter Valid Gender (m/f)\")\n",
    "elif age>=30 and age<=40:\n",
    "    if gender==\"m\":\n",
    "        wages=Day*800\n",
    "    elif gender==\"f\":\n",
    "        wages=Day*850\n",
    "    else:\n",
    "        print(\"Plaese Enter Valid Gender (m/f)\")\n",
    "else:\n",
    "    print(\"Please Enter valid Age between 18 to 40\")\n",
    "print(\"Wages : \",wages)"
   ]
  },
  {
   "cell_type": "code",
   "execution_count": 7,
   "metadata": {},
   "outputs": [
    {
     "name": "stdout",
     "output_type": "stream",
     "text": [
      "Enter Age : 45\n",
      "Enter Gender : m\n",
      "Enter Days : 20\n",
      "Please Enter valid Age between 18 to 40\n"
     ]
    }
   ],
   "source": [
    "age=int(input(\"Enter Age : \"))\n",
    "gender=input(\"Enter Gender : \")\n",
    "Day=int(input(\"Enter Days : \"))\n",
    "if age>=18 and age<30 :\n",
    "    if gender==\"m\":\n",
    "        wages=Day*700\n",
    "    elif gender==\"f\":\n",
    "        wages=Day*750\n",
    "    else:\n",
    "        print(\"Plaese Enter Valid Gender (m/f)\")\n",
    "    print(\"Wages : \",wages)\n",
    "elif age>=30 and age<=40:\n",
    "    if gender==\"m\":\n",
    "        wages=Day*800\n",
    "    elif gender==\"f\":\n",
    "        wages=Day*850\n",
    "    else:\n",
    "        print(\"Plaese Enter Valid Gender (m/f)\")\n",
    "    print(\"Wages : \",wages)\n",
    "else:\n",
    "    print(\"Please Enter valid Age between 18 to 40\")\n"
   ]
  },
  {
   "cell_type": "code",
   "execution_count": 17,
   "metadata": {},
   "outputs": [
    {
     "name": "stdout",
     "output_type": "stream",
     "text": [
      "Enter Age : 25\n",
      "Enter Gender : n\n",
      "Enter Days : 23\n",
      "Plaese Enter Valid Gender (m/f)\n",
      "Wages :  14000\n"
     ]
    }
   ],
   "source": [
    "age=int(input(\"Enter Age : \"))\n",
    "gender=input(\"Enter Gender : \")\n",
    "Day=int(input(\"Enter Days : \"))\n",
    "if age>=18 and age<30 :\n",
    "    if gender==\"m\":\n",
    "        wages=Day*700\n",
    "    elif gender==\"f\":\n",
    "        wages=Day*750\n",
    "    else:\n",
    "        print(\"Plaese Enter Valid Gender (m/f)\")\n",
    "    print(\"Wages : \",wages)\n",
    "elif age>=30 and age<=40:\n",
    "    if gender==\"m\":\n",
    "        wages=Day*800\n",
    "    elif gender==\"f\":\n",
    "        wages=Day*850\n",
    "    else:\n",
    "        print(\"Plaese Enter Valid Gender (m/f)\")\n",
    "    print(\"Wages : \",wages)\n",
    "else:\n",
    "    print(\"Please Enter valid Age between 18 to 40\")\n"
   ]
  },
  {
   "cell_type": "markdown",
   "metadata": {},
   "source": [
    "# WAP to accept 3 sides of triangle and check whether it is equilator,isoscales or scalen triangle"
   ]
  },
  {
   "cell_type": "code",
   "execution_count": 8,
   "metadata": {},
   "outputs": [
    {
     "name": "stdout",
     "output_type": "stream",
     "text": [
      "Enter side 1 : 7\n",
      "Enter side 2 : 7\n",
      "Enter side 3 : 5\n",
      "Isosceles .\n"
     ]
    }
   ],
   "source": [
    "# equilatered --> three sides are equal\n",
    "# Scalene      --> three sides are not equal\n",
    "# Isosceles   --> atlest two sides are equal\n",
    "s1=int(input(\"Enter side 1 : \"))\n",
    "s2=int(input(\"Enter side 2 : \"))\n",
    "s3=int(input(\"Enter side 3 : \"))\n",
    "if s1==s2 and s2==s3:\n",
    "    print(\"Equilatered .\")\n",
    "elif s1!=s2 and s2!=s3 and s1!=s3:\n",
    "    print(\"Scalene .\")\n",
    "elif (s1==s2 and s1!=s3) or(s1==s3 and s1!=s2)or(s2==s3 and s2!=s1):\n",
    "    print(\"Isosceles .\")\n",
    "else :\n",
    "    print(\"Enter valid sides.\")"
   ]
  },
  {
   "cell_type": "code",
   "execution_count": 9,
   "metadata": {},
   "outputs": [
    {
     "name": "stdout",
     "output_type": "stream",
     "text": [
      "Enter side 1 : 7\n",
      "Enter side 2 : 7\n",
      "Enter side 3 : 7\n",
      "Equilatered .\n"
     ]
    }
   ],
   "source": [
    "s1=int(input(\"Enter side 1 : \"))\n",
    "s2=int(input(\"Enter side 2 : \"))\n",
    "s3=int(input(\"Enter side 3 : \"))\n",
    "if s1==s2 and s2==s3:\n",
    "    print(\"Equilatered .\")\n",
    "elif s1!=s2 and s2!=s3 and s1!=s3:\n",
    "    print(\"Scalene .\")\n",
    "elif (s1==s2 and s1!=s3) or(s1==s3 and s1!=s2)or(s2==s3 and s2!=s1):\n",
    "    print(\"Isosceles .\")\n",
    "else :\n",
    "    print(\"Enter valid sides.\")"
   ]
  },
  {
   "cell_type": "code",
   "execution_count": 10,
   "metadata": {},
   "outputs": [
    {
     "name": "stdout",
     "output_type": "stream",
     "text": [
      "Enter side 1 : 7\n",
      "Enter side 2 : 5\n",
      "Enter side 3 : 3\n",
      "Scalene .\n"
     ]
    }
   ],
   "source": [
    "s1=int(input(\"Enter side 1 : \"))\n",
    "s2=int(input(\"Enter side 2 : \"))\n",
    "s3=int(input(\"Enter side 3 : \"))\n",
    "if s1==s2 and s2==s3:\n",
    "    print(\"Equilatered .\")\n",
    "elif s1!=s2 and s2!=s3 and s1!=s3:\n",
    "    print(\"Scalene .\")\n",
    "elif (s1==s2 and s1!=s3) or(s1==s3 and s1!=s2)or(s2==s3 and s2!=s1):\n",
    "    print(\"Isosceles .\")\n",
    "else :\n",
    "    print(\"Enter valid sides.\")"
   ]
  },
  {
   "cell_type": "markdown",
   "metadata": {},
   "source": [
    "# WAP to count all number upto give number starting from 1."
   ]
  },
  {
   "cell_type": "code",
   "execution_count": 14,
   "metadata": {},
   "outputs": [
    {
     "name": "stdout",
     "output_type": "stream",
     "text": [
      "Enter num : 20\n",
      "Sum :  210\n"
     ]
    }
   ],
   "source": [
    "n=int(input(\"Enter num : \"))\n",
    "sum=0\n",
    "for i in range(1,n+1):\n",
    "    sum+=i\n",
    "print(\"Sum : \",sum)"
   ]
  },
  {
   "cell_type": "markdown",
   "metadata": {},
   "source": [
    "# WAP to count avg of given 10 number given by user."
   ]
  },
  {
   "cell_type": "code",
   "execution_count": 21,
   "metadata": {},
   "outputs": [
    {
     "name": "stdout",
     "output_type": "stream",
     "text": [
      "Enter Number to give input : 5\n",
      "Enter num 2\n",
      "Enter num 3\n",
      "Enter num 1\n",
      "Enter num 5\n",
      "Enter num 2\n",
      "Sum :  13\n",
      "Avg :  2.6\n"
     ]
    }
   ],
   "source": [
    "num=int(input(\"Enter Number to give input : \"))\n",
    "sum=0\n",
    "for i in range(1,num+1):\n",
    "    n=int(input(\"Enter num \"))\n",
    "    sum+=n\n",
    "print(\"Sum : \",sum)\n",
    "avg=sum/num\n",
    "print(\"Avg : \",avg)"
   ]
  },
  {
   "cell_type": "code",
   "execution_count": 22,
   "metadata": {},
   "outputs": [
    {
     "name": "stdout",
     "output_type": "stream",
     "text": [
      "Enter Number to give input : 5\n",
      " Enter num 1 :10\n",
      " Enter num 2 :20\n",
      " Enter num 3 :30\n",
      " Enter num 4 :40\n",
      " Enter num 5 :50\n",
      "Sum :  150\n",
      "Avg :  30.0\n"
     ]
    }
   ],
   "source": [
    "num=int(input(\"Enter Number to give input : \"))\n",
    "sum=0\n",
    "for i in range(1,num+1):\n",
    "    n=int(input(f' Enter num {i} :'))\n",
    "    sum+=n\n",
    "print(\"Sum : \",sum)\n",
    "avg=sum/num\n",
    "print(\"Avg : \",avg)"
   ]
  },
  {
   "cell_type": "markdown",
   "metadata": {},
   "source": [
    "# WAP to add all digit's of given number."
   ]
  },
  {
   "cell_type": "code",
   "execution_count": 26,
   "metadata": {},
   "outputs": [
    {
     "name": "stdout",
     "output_type": "stream",
     "text": [
      "Enter num : 23679\n",
      "Sum :  27\n"
     ]
    }
   ],
   "source": [
    "n=int(input(\"Enter num : \"))\n",
    "num=n\n",
    "sum=0\n",
    "while num>0:\n",
    "    num=n%10\n",
    "    sum+=num\n",
    "    n=n//10\n",
    "print(\"Sum : \",sum)"
   ]
  },
  {
   "cell_type": "code",
   "execution_count": 27,
   "metadata": {},
   "outputs": [
    {
     "name": "stdout",
     "output_type": "stream",
     "text": [
      "Enter num : 23679\n",
      "Sum :  27\n"
     ]
    }
   ],
   "source": [
    "n=input(\"Enter num : \")\n",
    "sum=0\n",
    "for i in n :\n",
    "    sum=sum+int(i)\n",
    "print(\"Sum : \",sum)"
   ]
  },
  {
   "cell_type": "markdown",
   "metadata": {},
   "source": [
    "# WAP to print reversed num"
   ]
  },
  {
   "cell_type": "code",
   "execution_count": 29,
   "metadata": {},
   "outputs": [
    {
     "name": "stdout",
     "output_type": "stream",
     "text": [
      "Enter num : 123\n",
      "Reversed Num :  321\n"
     ]
    }
   ],
   "source": [
    "n=int(input(\"Enter num : \"))\n",
    "r=0\n",
    "while n>0:\n",
    "    num=n%10\n",
    "    r=(r*10)+num\n",
    "    n=n//10\n",
    "print(\"Reversed Num : \",r)"
   ]
  },
  {
   "cell_type": "markdown",
   "metadata": {},
   "source": [
    "# WAP for palindrome number."
   ]
  },
  {
   "cell_type": "code",
   "execution_count": 33,
   "metadata": {},
   "outputs": [
    {
     "name": "stdout",
     "output_type": "stream",
     "text": [
      "Enter num : 121\n",
      "Palindrome Number . \n"
     ]
    }
   ],
   "source": [
    "n=int(input(\"Enter num : \"))\n",
    "p=n\n",
    "r=0\n",
    "while n>0:\n",
    "    num=n%10\n",
    "    r=(r*10)+num\n",
    "    n=n//10\n",
    "if r==p:\n",
    "    print(\"Palindrome Number . \")\n",
    "else:\n",
    "    print(\"Not a palindrome number . \")"
   ]
  },
  {
   "cell_type": "markdown",
   "metadata": {},
   "source": [
    "# WAP to check given no. is armstrong or not."
   ]
  },
  {
   "cell_type": "code",
   "execution_count": 2,
   "metadata": {},
   "outputs": [
    {
     "name": "stdout",
     "output_type": "stream",
     "text": [
      "Enter num : 153\n",
      "Armstrong Number . \n"
     ]
    }
   ],
   "source": [
    "n=int(input(\"Enter num : \"))\n",
    "a=0\n",
    "tem=n\n",
    "l=len(str(n))\n",
    "while n!=0:\n",
    "    num=n%10\n",
    "    a=a+(num**l)\n",
    "    n=n//10\n",
    "if tem==a:\n",
    "    print(\"Armstrong Number . \")\n",
    "else:\n",
    "    print(\"Not Armstrong Number . \")"
   ]
  },
  {
   "cell_type": "code",
   "execution_count": 3,
   "metadata": {},
   "outputs": [
    {
     "name": "stdout",
     "output_type": "stream",
     "text": [
      "Enter num : 256\n",
      "Not Armstrong Number . \n"
     ]
    }
   ],
   "source": [
    "n=int(input(\"Enter num : \"))\n",
    "a=0\n",
    "tem=n\n",
    "l=len(str(n))\n",
    "while n!=0:\n",
    "    num=n%10\n",
    "    a=a+(num**l)\n",
    "    n=n//10\n",
    "if tem==a:\n",
    "    print(\"Armstrong Number . \")\n",
    "else:\n",
    "    print(\"Not Armstrong Number . \")"
   ]
  },
  {
   "cell_type": "markdown",
   "metadata": {},
   "source": [
    "# WAP to check given no. is Prime or not."
   ]
  },
  {
   "cell_type": "code",
   "execution_count": 9,
   "metadata": {},
   "outputs": [
    {
     "name": "stdout",
     "output_type": "stream",
     "text": [
      "Enter num : 14\n",
      "Not a prime number : \n"
     ]
    }
   ],
   "source": [
    "n=int(input(\"Enter num : \"))\n",
    "count=0\n",
    "for i in range(2,n):\n",
    "    if(n%i)==0:\n",
    "        count+=1\n",
    "        break\n",
    "if count==0:\n",
    "    print(\"Prime Number .\")\n",
    "else :\n",
    "    print(\"Not a prime number : \")"
   ]
  },
  {
   "cell_type": "code",
   "execution_count": 8,
   "metadata": {},
   "outputs": [
    {
     "name": "stdout",
     "output_type": "stream",
     "text": [
      "Enter num : 11\n",
      "Prime Number .\n"
     ]
    }
   ],
   "source": [
    "n=int(input(\"Enter num : \"))\n",
    "count=0\n",
    "for i in range(2,n):\n",
    "    if(n%i)==0:\n",
    "        count+=1\n",
    "        break\n",
    "if count==0:\n",
    "    print(\"Prime Number .\")\n",
    "else :\n",
    "    print(\"Not a prime number : \")"
   ]
  },
  {
   "cell_type": "markdown",
   "metadata": {},
   "source": [
    "# WAP to print all prime number upto given number."
   ]
  },
  {
   "cell_type": "code",
   "execution_count": 8,
   "metadata": {},
   "outputs": [
    {
     "name": "stdout",
     "output_type": "stream",
     "text": [
      "Enter num : 100\n",
      "Prime Number . 2\n",
      "Prime Number . 3\n",
      "Prime Number . 5\n",
      "Prime Number . 7\n",
      "Prime Number . 11\n",
      "Prime Number . 13\n",
      "Prime Number . 17\n",
      "Prime Number . 19\n",
      "Prime Number . 23\n",
      "Prime Number . 29\n",
      "Prime Number . 31\n",
      "Prime Number . 37\n",
      "Prime Number . 41\n",
      "Prime Number . 43\n",
      "Prime Number . 47\n",
      "Prime Number . 53\n",
      "Prime Number . 59\n",
      "Prime Number . 61\n",
      "Prime Number . 67\n",
      "Prime Number . 71\n",
      "Prime Number . 73\n",
      "Prime Number . 79\n",
      "Prime Number . 83\n",
      "Prime Number . 89\n",
      "Prime Number . 97\n",
      "Total number in  100 is :  25\n"
     ]
    }
   ],
   "source": [
    "n=int(input(\"Enter num : \"))\n",
    "c=0\n",
    "for j in range(2,n+1):\n",
    "    count=0\n",
    "    for i in range(2,j):\n",
    "        if(j%i)==0:\n",
    "            count+=1\n",
    "    if count==0:\n",
    "        print(\"Prime Number .\",j)\n",
    "        c+=1\n",
    "print(\"Total number in \",n,\"is : \",c)"
   ]
  }
 ],
 "metadata": {
  "kernelspec": {
   "display_name": "Python 3",
   "language": "python",
   "name": "python3"
  },
  "language_info": {
   "codemirror_mode": {
    "name": "ipython",
    "version": 3
   },
   "file_extension": ".py",
   "mimetype": "text/x-python",
   "name": "python",
   "nbconvert_exporter": "python",
   "pygments_lexer": "ipython3",
   "version": "3.8.5"
  }
 },
 "nbformat": 4,
 "nbformat_minor": 4
}
