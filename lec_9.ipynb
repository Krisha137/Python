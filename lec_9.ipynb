{
 "cells": [
  {
   "cell_type": "code",
   "execution_count": 3,
   "metadata": {},
   "outputs": [
    {
     "name": "stdout",
     "output_type": "stream",
     "text": [
      "{'m1': 100, 'm2': 200, 'm3': 300}\n",
      "m1 = 100\n",
      "m2 = 200\n",
      "m3 = 300\n",
      "{'rollno': 10, 'name': 'Arman', 'Subject': 'Python', 'marks': 88}\n",
      "rollno = 10\n",
      "name = Arman\n",
      "Subject = Python\n",
      "marks = 88\n"
     ]
    }
   ],
   "source": [
    "def display(**kwards):\n",
    "#     ** --> it will convorted into  a dictionary with key-value pairs.\n",
    "#  d= dictionary_name\n",
    "#    d.items() is a function of dictionary.--> both key & values\n",
    "#    d.keys() is a function of dictionary.-->  key \n",
    "#    d.values() is a function of dictionary.--> values\n",
    "    print(kwards)\n",
    "    for k,v in kwards.items():\n",
    "        print(k,\"=\",v)\n",
    "display(m1=100,m2=200,m3=300)\n",
    "display(rollno=10,name=\"Arman\",Subject=\"Python\",marks=88)"
   ]
  },
  {
   "cell_type": "code",
   "execution_count": 6,
   "metadata": {},
   "outputs": [
    {
     "name": "stdout",
     "output_type": "stream",
     "text": [
      "{'m1': 100, 'm2': 200, 'm3': 300}\n",
      "('m1', 100)\n",
      "('m2', 200)\n",
      "('m3', 300)\n",
      "{'rollno': 10, 'name': 'Arman', 'Subject': 'Python', 'marks': 88}\n",
      "('rollno', 10)\n",
      "('name', 'Arman')\n",
      "('Subject', 'Python')\n",
      "('marks', 88)\n"
     ]
    }
   ],
   "source": [
    "def display(**kwards):\n",
    "    print(kwards)\n",
    "    for k in kwards.items():\n",
    "        print(k)\n",
    "display(m1=100,m2=200,m3=300)\n",
    "display(rollno=10,name=\"Arman\",Subject=\"Python\",marks=88)"
   ]
  },
  {
   "cell_type": "markdown",
   "metadata": {},
   "source": [
    "# Nested Function"
   ]
  },
  {
   "cell_type": "code",
   "execution_count": 7,
   "metadata": {},
   "outputs": [
    {
     "ename": "NameError",
     "evalue": "name 'inner' is not defined",
     "output_type": "error",
     "traceback": [
      "\u001b[1;31m---------------------------------------------------------------------------\u001b[0m",
      "\u001b[1;31mNameError\u001b[0m                                 Traceback (most recent call last)",
      "\u001b[1;32m<ipython-input-7-d8d144a02dd3>\u001b[0m in \u001b[0;36m<module>\u001b[1;34m\u001b[0m\n\u001b[0;32m      3\u001b[0m     \u001b[1;32mdef\u001b[0m \u001b[0minner\u001b[0m\u001b[1;33m(\u001b[0m\u001b[1;33m)\u001b[0m\u001b[1;33m:\u001b[0m\u001b[1;33m\u001b[0m\u001b[1;33m\u001b[0m\u001b[0m\n\u001b[0;32m      4\u001b[0m         \u001b[0mprint\u001b[0m\u001b[1;33m(\u001b[0m\u001b[1;34m\"This is a Inner Function.\"\u001b[0m\u001b[1;33m)\u001b[0m\u001b[1;33m\u001b[0m\u001b[1;33m\u001b[0m\u001b[0m\n\u001b[1;32m----> 5\u001b[1;33m \u001b[0minner\u001b[0m\u001b[1;33m(\u001b[0m\u001b[1;33m)\u001b[0m\u001b[1;33m\u001b[0m\u001b[1;33m\u001b[0m\u001b[0m\n\u001b[0m",
      "\u001b[1;31mNameError\u001b[0m: name 'inner' is not defined"
     ]
    }
   ],
   "source": [
    "def outer():\n",
    "    print(\"This is outer function.\")\n",
    "    def inner():\n",
    "        print(\"This is a Inner Function.\")\n",
    "inner()"
   ]
  },
  {
   "cell_type": "code",
   "execution_count": 8,
   "metadata": {},
   "outputs": [
    {
     "name": "stdout",
     "output_type": "stream",
     "text": [
      "This is outer function.\n"
     ]
    }
   ],
   "source": [
    "def outer():\n",
    "    print(\"This is outer function.\")\n",
    "    def inner():\n",
    "        print(\"This is a Inner Function.\")\n",
    "outer()"
   ]
  },
  {
   "cell_type": "code",
   "execution_count": 10,
   "metadata": {},
   "outputs": [
    {
     "name": "stdout",
     "output_type": "stream",
     "text": [
      "This is outer function.\n",
      "This is a Inner Function.\n"
     ]
    }
   ],
   "source": [
    "def outer():\n",
    "    print(\"This is outer function.\")\n",
    "    def inner():\n",
    "        print(\"This is a Inner Function.\")\n",
    "    inner()\n",
    "outer()"
   ]
  },
  {
   "cell_type": "code",
   "execution_count": 11,
   "metadata": {},
   "outputs": [
    {
     "name": "stdout",
     "output_type": "stream",
     "text": [
      "This is outer function.\n"
     ]
    },
    {
     "ename": "UnboundLocalError",
     "evalue": "local variable 'inner' referenced before assignment",
     "output_type": "error",
     "traceback": [
      "\u001b[1;31m---------------------------------------------------------------------------\u001b[0m",
      "\u001b[1;31mUnboundLocalError\u001b[0m                         Traceback (most recent call last)",
      "\u001b[1;32m<ipython-input-11-4a48ecebab09>\u001b[0m in \u001b[0;36m<module>\u001b[1;34m\u001b[0m\n\u001b[0;32m      4\u001b[0m     \u001b[1;32mdef\u001b[0m \u001b[0minner\u001b[0m\u001b[1;33m(\u001b[0m\u001b[1;33m)\u001b[0m\u001b[1;33m:\u001b[0m\u001b[1;33m\u001b[0m\u001b[1;33m\u001b[0m\u001b[0m\n\u001b[0;32m      5\u001b[0m         \u001b[0mprint\u001b[0m\u001b[1;33m(\u001b[0m\u001b[1;34m\"This is a Inner Function.\"\u001b[0m\u001b[1;33m)\u001b[0m\u001b[1;33m\u001b[0m\u001b[1;33m\u001b[0m\u001b[0m\n\u001b[1;32m----> 6\u001b[1;33m \u001b[0mouter\u001b[0m\u001b[1;33m(\u001b[0m\u001b[1;33m)\u001b[0m\u001b[1;33m\u001b[0m\u001b[1;33m\u001b[0m\u001b[0m\n\u001b[0m",
      "\u001b[1;32m<ipython-input-11-4a48ecebab09>\u001b[0m in \u001b[0;36mouter\u001b[1;34m()\u001b[0m\n\u001b[0;32m      1\u001b[0m \u001b[1;32mdef\u001b[0m \u001b[0mouter\u001b[0m\u001b[1;33m(\u001b[0m\u001b[1;33m)\u001b[0m\u001b[1;33m:\u001b[0m\u001b[1;33m\u001b[0m\u001b[1;33m\u001b[0m\u001b[0m\n\u001b[0;32m      2\u001b[0m     \u001b[0mprint\u001b[0m\u001b[1;33m(\u001b[0m\u001b[1;34m\"This is outer function.\"\u001b[0m\u001b[1;33m)\u001b[0m\u001b[1;33m\u001b[0m\u001b[1;33m\u001b[0m\u001b[0m\n\u001b[1;32m----> 3\u001b[1;33m     \u001b[0minner\u001b[0m\u001b[1;33m(\u001b[0m\u001b[1;33m)\u001b[0m\u001b[1;33m\u001b[0m\u001b[1;33m\u001b[0m\u001b[0m\n\u001b[0m\u001b[0;32m      4\u001b[0m     \u001b[1;32mdef\u001b[0m \u001b[0minner\u001b[0m\u001b[1;33m(\u001b[0m\u001b[1;33m)\u001b[0m\u001b[1;33m:\u001b[0m\u001b[1;33m\u001b[0m\u001b[1;33m\u001b[0m\u001b[0m\n\u001b[0;32m      5\u001b[0m         \u001b[0mprint\u001b[0m\u001b[1;33m(\u001b[0m\u001b[1;34m\"This is a Inner Function.\"\u001b[0m\u001b[1;33m)\u001b[0m\u001b[1;33m\u001b[0m\u001b[1;33m\u001b[0m\u001b[0m\n",
      "\u001b[1;31mUnboundLocalError\u001b[0m: local variable 'inner' referenced before assignment"
     ]
    }
   ],
   "source": [
    "def outer():\n",
    "    print(\"This is outer function.\")\n",
    "    inner()\n",
    "    def inner():\n",
    "        print(\"This is a Inner Function.\")\n",
    "outer()"
   ]
  },
  {
   "cell_type": "code",
   "execution_count": 13,
   "metadata": {},
   "outputs": [
    {
     "name": "stdout",
     "output_type": "stream",
     "text": [
      "54\n",
      "45\n"
     ]
    }
   ],
   "source": [
    "def fan1():\n",
    "    a=45\n",
    "    def fan2():\n",
    "        a=54\n",
    "        print(a)\n",
    "    fan2()\n",
    "    print(a)\n",
    "fan1()"
   ]
  },
  {
   "cell_type": "code",
   "execution_count": 14,
   "metadata": {},
   "outputs": [
    {
     "name": "stdout",
     "output_type": "stream",
     "text": [
      "0\n",
      "1\n",
      "2\n",
      "3\n",
      "4\n",
      "Hello World\n"
     ]
    }
   ],
   "source": [
    "for i in range(5):\n",
    "    print(i)\n",
    "else:\n",
    "    print(\"Hello World\")"
   ]
  },
  {
   "cell_type": "code",
   "execution_count": 15,
   "metadata": {},
   "outputs": [
    {
     "name": "stdout",
     "output_type": "stream",
     "text": [
      "0\n",
      "1\n",
      "2\n"
     ]
    }
   ],
   "source": [
    "for i in range(5):\n",
    "    if i==3:\n",
    "        break\n",
    "    print(i)\n",
    "else:\n",
    "    print(\"Hello World\")"
   ]
  },
  {
   "cell_type": "code",
   "execution_count": 17,
   "metadata": {},
   "outputs": [
    {
     "name": "stdout",
     "output_type": "stream",
     "text": [
      "0\n",
      "1\n",
      "2\n",
      "3\n",
      "4\n",
      "Hello World\n"
     ]
    }
   ],
   "source": [
    "i=0\n",
    "n=5\n",
    "while i<n:\n",
    "    print(i)\n",
    "    i+=1\n",
    "else:\n",
    "    print(\"Hello World\")"
   ]
  },
  {
   "cell_type": "code",
   "execution_count": 18,
   "metadata": {},
   "outputs": [
    {
     "name": "stdout",
     "output_type": "stream",
     "text": [
      "0\n",
      "1\n",
      "2\n"
     ]
    }
   ],
   "source": [
    "i=0\n",
    "n=5\n",
    "while i<n:\n",
    "    if i==3:\n",
    "        break\n",
    "    print(i)\n",
    "    i+=1\n",
    "else:\n",
    "    print(\"Hello World\")"
   ]
  },
  {
   "cell_type": "markdown",
   "metadata": {},
   "source": [
    "# WAP to check the give number is harshad number or not using function."
   ]
  },
  {
   "cell_type": "code",
   "execution_count": 27,
   "metadata": {},
   "outputs": [
    {
     "name": "stdout",
     "output_type": "stream",
     "text": [
      "Enter Number :18\n",
      "18  is a Harshad number.\n"
     ]
    }
   ],
   "source": [
    "def harshad(n):\n",
    "    temp=n\n",
    "    sum=0\n",
    "    while n>0:\n",
    "        num=n%10\n",
    "        sum+=num\n",
    "        n=n//10\n",
    "    if temp%sum==0:\n",
    "        print(temp,\" is a Harshad number.\")\n",
    "    else :\n",
    "        print(temp,\" is not a Harshad number.\")\n",
    "n=int(input(\"Enter Number :\"))\n",
    "harshad(n)"
   ]
  },
  {
   "cell_type": "code",
   "execution_count": 26,
   "metadata": {},
   "outputs": [
    {
     "name": "stdout",
     "output_type": "stream",
     "text": [
      "Enter Number :35\n",
      "35  is not a Harshad number.\n"
     ]
    }
   ],
   "source": [
    "def harshad(n):\n",
    "    temp=n\n",
    "    sum=0\n",
    "    while n>0:\n",
    "        num=n%10\n",
    "        sum+=num\n",
    "        n=n//10\n",
    "    if temp%sum==0:\n",
    "        print(temp,\" is a Harshad number.\")\n",
    "    else :\n",
    "        print(temp,\" is not a Harshad number.\")\n",
    "n=int(input(\"Enter Number :\"))\n",
    "harshad(n)"
   ]
  },
  {
   "cell_type": "markdown",
   "metadata": {},
   "source": [
    "# WAP that accept a single digit integer number and produces all possible 6 digit number for which the product of that digit is equal to the entered the number."
   ]
  },
  {
   "cell_type": "code",
   "execution_count": 2,
   "metadata": {},
   "outputs": [
    {
     "name": "stdout",
     "output_type": "stream",
     "text": [
      "Enter number : 2\n",
      "100000\n",
      "10000\n",
      "1000\n",
      "100\n",
      "10\n",
      "1\n",
      "2\n",
      "0\n",
      "1111113\n",
      "100000\n",
      "10000\n",
      "1000\n",
      "100\n",
      "10\n",
      "1\n",
      "0\n",
      "2222224\n"
     ]
    }
   ],
   "source": [
    "n=int(input(\"Enter number : \"))\n",
    "sum=0\n",
    "c=1\n",
    "for j in range(1,n+1):\n",
    "    i=1000000\n",
    "    while i>0:\n",
    "        sum+=i\n",
    "        if j==i:\n",
    "            i=i*n\n",
    "            print(i)\n",
    "            continue\n",
    "        c+=1\n",
    "        i=i//10\n",
    "        print(i)\n",
    "    print(sum)\n",
    "# complete this ....."
   ]
  },
  {
   "cell_type": "markdown",
   "metadata": {},
   "source": [
    "# WAP to get next day of a given date."
   ]
  },
  {
   "cell_type": "code",
   "execution_count": 34,
   "metadata": {},
   "outputs": [
    {
     "name": "stdout",
     "output_type": "stream",
     "text": [
      "Enter Year : 2025\n",
      "Enter Month : 3\n",
      "Enter Day : 31\n",
      "1 - 4 - 2025\n"
     ]
    }
   ],
   "source": [
    "year=int(input(\"Enter Year : \"))\n",
    "month=int(input(\"Enter Month : \"))\n",
    "day=int(input(\"Enter Day : \"))\n",
    "m31=(1,3,5,7,8,10,12)\n",
    "m30=(4,6,9,11)\n",
    "if ((year%4==0 and year%100!=0) or (year %400==0)):\n",
    "    if month==2 and day==29:\n",
    "        day=1\n",
    "        month+=1\n",
    "    elif (month in m31) and day==31:\n",
    "        day=1\n",
    "        if month==12:\n",
    "            month=1\n",
    "             year+=1\n",
    "        else:\n",
    "            month+=1\n",
    "    elif (month in m30)and day==30:\n",
    "        day=1\n",
    "        month+=1\n",
    "    else:\n",
    "        day+=1\n",
    "else:\n",
    "    if month==2 and day==28:\n",
    "        day=1\n",
    "        month+=1\n",
    "    elif (month in m31) and day==31:\n",
    "        day=1\n",
    "        if month==12:\n",
    "            month=1\n",
    "            year+=1\n",
    "        else:\n",
    "            month+=1\n",
    "    elif (month in m30)and day==30:\n",
    "        day=1\n",
    "        month+=1\n",
    "    else:\n",
    "        day+=1\n",
    "print(day,\"-\",month,\"-\",year)"
   ]
  },
  {
   "cell_type": "markdown",
   "metadata": {},
   "source": [
    "# WAP to create a sequence where the first 4 member of the sequence are equal to 1 and each successive term of the sequence is equal to the sum of the 4 previous once find the nth member of the sequence."
   ]
  },
  {
   "cell_type": "code",
   "execution_count": 13,
   "metadata": {},
   "outputs": [
    {
     "name": "stdout",
     "output_type": "stream",
     "text": [
      "Enter number : 7\n",
      "13\n"
     ]
    }
   ],
   "source": [
    "n=int(input(\"Enter number : \"))\n",
    "a=b=c=d=1\n",
    "for i in range(1,n):\n",
    "    if i<4:\n",
    "        ans=1\n",
    "    else:\n",
    "        ans=a+b+c+d\n",
    "        a=b\n",
    "        b=c\n",
    "        c=d\n",
    "        d=ans\n",
    "print(ans)"
   ]
  },
  {
   "cell_type": "code",
   "execution_count": null,
   "metadata": {},
   "outputs": [],
   "source": []
  }
 ],
 "metadata": {
  "kernelspec": {
   "display_name": "Python 3",
   "language": "python",
   "name": "python3"
  },
  "language_info": {
   "codemirror_mode": {
    "name": "ipython",
    "version": 3
   },
   "file_extension": ".py",
   "mimetype": "text/x-python",
   "name": "python",
   "nbconvert_exporter": "python",
   "pygments_lexer": "ipython3",
   "version": "3.8.5"
  }
 },
 "nbformat": 4,
 "nbformat_minor": 4
}
