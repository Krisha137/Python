{
 "cells": [
  {
   "cell_type": "markdown",
   "metadata": {},
   "source": [
    "# WAP to find happy number."
   ]
  },
  {
   "cell_type": "code",
   "execution_count": 3,
   "metadata": {},
   "outputs": [
    {
     "name": "stdout",
     "output_type": "stream",
     "text": [
      "Enter number : 7\n",
      "7 is Happy number.\n"
     ]
    }
   ],
   "source": [
    "n=int(input(\"Enter number : \"))\n",
    "temp=n\n",
    "while n!=1 and n!=4:\n",
    "    sum=0\n",
    "    s=str(n)\n",
    "    for i in s:\n",
    "        sum+=int(i)**2\n",
    "    n=sum\n",
    "if n==1:\n",
    "    print(temp,\"is Happy number.\")\n",
    "else:\n",
    "    print(temp,\"is not Happy number.\")"
   ]
  },
  {
   "cell_type": "code",
   "execution_count": 3,
   "metadata": {},
   "outputs": [
    {
     "name": "stdout",
     "output_type": "stream",
     "text": [
      "Enter number : 4\n",
      "4 is not Happy number.\n"
     ]
    }
   ],
   "source": [
    "n=int(input(\"Enter number : \"))\n",
    "temp=n\n",
    "while n!=1 and n!=4:\n",
    "    sum=0\n",
    "    s=str(n)\n",
    "    for i in s:\n",
    "        sum+=int(i)**2\n",
    "    n=sum\n",
    "if n==1:\n",
    "    print(temp,\"is Happy number.\")\n",
    "else:\n",
    "    print(temp,\"is not Happy number.\")"
   ]
  },
  {
   "cell_type": "code",
   "execution_count": null,
   "metadata": {},
   "outputs": [
    {
     "name": "stdout",
     "output_type": "stream",
     "text": [
      "Enter number : 7\n"
     ]
    }
   ],
   "source": [
    "# Another way , hear not use of string ---- this is not working check this\n",
    "n=int(input(\"Enter number : \"))\n",
    "temp=n\n",
    "num=n\n",
    "while n!=1 and n!=4:\n",
    "    sum=0\n",
    "    while n>=0 :\n",
    "        num=n%10\n",
    "        sum+=num**2\n",
    "        n=n//10\n",
    "    n=sum\n",
    "if n==1:\n",
    "    print(temp,\"is Happy number.\")\n",
    "else:\n",
    "    print(temp,\"is not Happy number.\")"
   ]
  },
  {
   "cell_type": "markdown",
   "metadata": {},
   "source": [
    "# WAP to count the salary for following this table."
   ]
  },
  {
   "cell_type": "code",
   "execution_count": null,
   "metadata": {},
   "outputs": [],
   "source": [
    "# Grade level    Basic pag     Other Allownces\n",
    "#    A            60000           8000\n",
    "#    B            50000           7000\n",
    "#    C            40000           6000\n",
    "#    D            30000           5000\n",
    "#    E            20000           4000\n",
    "#    F            10000           3000\n",
    "#\n",
    "#  Gross Pay = Basic pay+ HRA + DA + Other Allownaces + TA - professional Tax - EPF\n",
    "#\n",
    "# HRA \n",
    "#    city \n",
    "#      Class-1    0.3 of basic pay\n",
    "#      Class-2    0.2 of basic pay\n",
    "#      Class-3    0.1 of basic pay\n",
    "#\n",
    "# professinal tax -->  200 Rs/month\n",
    "#\n",
    "# DA  --> 0.5 times of basic pay\n",
    "# EPF --> 0.11 times of basic pay\n",
    "# TA  --> 900 Rs/month\n",
    "# Amount                             Tax Rate\n",
    "# Upto Rs.250000                      0%\n",
    "# Rs.250001 to Rs.500000              5% above  Rs.250000\n",
    "# Rs.500001 to Rs.750000              10% above Rs.500000 + Rs.12500\n",
    "# Rs.750001 to Rs.1000000             15% above Rs.750000 + Rs.37500\n",
    "# Rs.1000001 to Rs.1250000            20% above Rs.1000000 + Rs.75000\n",
    "# Rs.1250001 to Rs.1500000            25% above Rs.1250000 + Rs.125000\n",
    "# Above Rs.1500001                    30% above Rs.1500000 + Rs.187500"
   ]
  },
  {
   "cell_type": "code",
   "execution_count": 14,
   "metadata": {},
   "outputs": [
    {
     "name": "stdout",
     "output_type": "stream",
     "text": [
      "Enter Grade Level : A\n",
      "Enter City class : 1\n",
      "Salary (Per Month) : Rs. 110100.0\n",
      "Salary (Anual) : Rs. 1321200.0\n",
      "Tax : Rs. 142800.0\n"
     ]
    }
   ],
   "source": [
    "gl=input(\"Enter Grade Level : \")\n",
    "cc=int(input(\"Enter City class : \"))\n",
    "bp={'A':60000,'B':50000,'C':40000,'D':30000,'E':20000,'F':10000}\n",
    "oa={'A':8000,'B':7000,'C':6000,'D':5000,'E':4000,'F':3000}\n",
    "HRA=0\n",
    "if cc==1:\n",
    "    HRA=0.3*bp[gl]\n",
    "elif cc==2:\n",
    "    HRA=0.2*bp[gl]\n",
    "else:\n",
    "    HRA=0.1*bp[gl]\n",
    "GrossPay=0\n",
    "GrossPay=bp[gl]+HRA +(0.5*bp[gl])+oa[gl]+900-200-(0.11*bp[gl])\n",
    "print(\"Salary (Per Month) : Rs.\",GrossPay)\n",
    "gp=GrossPay*12\n",
    "print(\"Salary (Anual) : Rs.\",gp)\n",
    "if gp<=250000:\n",
    "    tax=0\n",
    "elif gp>=250001 and gp<=500000:\n",
    "    gp-=250000\n",
    "    tax=0.05*gp\n",
    "elif gp>=500001 and gp<=750000:\n",
    "    gp-=500000\n",
    "    tax=0.10*gp+12500\n",
    "elif gp>=750001 and gp<=1000000:\n",
    "    gp-=750000\n",
    "    tax=0.15*gp+37500\n",
    "elif gp>=1000001 and gp<=1250000:\n",
    "    gp-=1000000\n",
    "    tax=0.20*gp+75000\n",
    "elif gp>=1250001 and gp<=1500000:\n",
    "    gp-=1250000\n",
    "    tax=0.25*gp+125000\n",
    "else:\n",
    "    gp-=1500000\n",
    "    tax=0.30*gp+187500\n",
    "    \n",
    "print(\"Tax : Rs.\",tax)"
   ]
  },
  {
   "cell_type": "code",
   "execution_count": 15,
   "metadata": {},
   "outputs": [
    {
     "name": "stdout",
     "output_type": "stream",
     "text": [
      "Enter Grade Level : B\n",
      "Enter City class : 2\n",
      "Salary (Per Month) : Rs. 87200.0\n",
      "Salary (Anual) : Rs. 1046400.0\n",
      "Tax : Rs. 84280.0\n"
     ]
    }
   ],
   "source": [
    "gl=input(\"Enter Grade Level : \")\n",
    "cc=int(input(\"Enter City class : \"))\n",
    "bp={'A':60000,'B':50000,'C':40000,'D':30000,'E':20000,'F':10000}\n",
    "oa={'A':8000,'B':7000,'C':6000,'D':5000,'E':4000,'F':3000}\n",
    "HRA=0\n",
    "if cc==1:\n",
    "    HRA=0.3*bp[gl]\n",
    "elif cc==2:\n",
    "    HRA=0.2*bp[gl]\n",
    "else:\n",
    "    HRA=0.1*bp[gl]\n",
    "GrossPay=0\n",
    "GrossPay=bp[gl]+HRA +(0.5*bp[gl])+oa[gl]+900-200-(0.11*bp[gl])\n",
    "print(\"Salary (Per Month) : Rs.\",GrossPay)\n",
    "gp=GrossPay*12\n",
    "print(\"Salary (Anual) : Rs.\",gp)\n",
    "if gp<=250000:\n",
    "    tax=0\n",
    "elif gp>=250001 and gp<=500000:\n",
    "    gp-=250000\n",
    "    tax=0.05*gp\n",
    "elif gp>=500001 and gp<=750000:\n",
    "    gp-=500000\n",
    "    tax=0.10*gp+12500\n",
    "elif gp>=750001 and gp<=1000000:\n",
    "    gp-=750000\n",
    "    tax=0.15*gp+37500\n",
    "elif gp>=1000001 and gp<=1250000:\n",
    "    gp-=1000000\n",
    "    tax=0.20*gp+75000\n",
    "elif gp>=1250001 and gp<=1500000:\n",
    "    gp-=1250000\n",
    "    tax=0.25*gp+125000\n",
    "else:\n",
    "    gp-=1500000\n",
    "    tax=0.30*gp+187500\n",
    "    \n",
    "print(\"Tax : Rs.\",tax)"
   ]
  },
  {
   "cell_type": "code",
   "execution_count": 16,
   "metadata": {},
   "outputs": [
    {
     "name": "stdout",
     "output_type": "stream",
     "text": [
      "Enter Grade Level : C\n",
      "Enter City class : 3\n",
      "Salary (Per Month) : Rs. 66300.0\n",
      "Salary (Anual) : Rs. 795600.0\n",
      "Tax : Rs. 44340.0\n"
     ]
    }
   ],
   "source": [
    "gl=input(\"Enter Grade Level : \")\n",
    "cc=int(input(\"Enter City class : \"))\n",
    "bp={'A':60000,'B':50000,'C':40000,'D':30000,'E':20000,'F':10000}\n",
    "oa={'A':8000,'B':7000,'C':6000,'D':5000,'E':4000,'F':3000}\n",
    "HRA=0\n",
    "if cc==1:\n",
    "    HRA=0.3*bp[gl]\n",
    "elif cc==2:\n",
    "    HRA=0.2*bp[gl]\n",
    "else:\n",
    "    HRA=0.1*bp[gl]\n",
    "GrossPay=0\n",
    "GrossPay=bp[gl]+HRA +(0.5*bp[gl])+oa[gl]+900-200-(0.11*bp[gl])\n",
    "print(\"Salary (Per Month) : Rs.\",GrossPay)\n",
    "gp=GrossPay*12\n",
    "print(\"Salary (Anual) : Rs.\",gp)\n",
    "if gp<=250000:\n",
    "    tax=0\n",
    "elif gp>=250001 and gp<=500000:\n",
    "    gp-=250000\n",
    "    tax=0.05*gp\n",
    "elif gp>=500001 and gp<=750000:\n",
    "    gp-=500000\n",
    "    tax=0.10*gp+12500\n",
    "elif gp>=750001 and gp<=1000000:\n",
    "    gp-=750000\n",
    "    tax=0.15*gp+37500\n",
    "elif gp>=1000001 and gp<=1250000:\n",
    "    gp-=1000000\n",
    "    tax=0.20*gp+75000\n",
    "elif gp>=1250001 and gp<=1500000:\n",
    "    gp-=1250000\n",
    "    tax=0.25*gp+125000\n",
    "else:\n",
    "    gp-=1500000\n",
    "    tax=0.30*gp+187500\n",
    "    \n",
    "print(\"Tax : Rs.\",tax)"
   ]
  },
  {
   "cell_type": "markdown",
   "metadata": {},
   "source": [
    "# Patterns"
   ]
  },
  {
   "cell_type": "code",
   "execution_count": 17,
   "metadata": {},
   "outputs": [
    {
     "name": "stdout",
     "output_type": "stream",
     "text": [
      "Enter number of rows : 5\n",
      "* \n",
      "* * \n",
      "* * * \n",
      "* * * * \n",
      "* * * * * \n"
     ]
    }
   ],
   "source": [
    "# * \n",
    "# * * \n",
    "# * * * \n",
    "# * * * * \n",
    "# * * * * * \n",
    "\n",
    "n=int(input(\"Enter number of rows : \"))\n",
    "for i in range(1,n+1):\n",
    "    for j in range(1,i+1):\n",
    "        print(\"*\", end=\" \")\n",
    "    print()"
   ]
  },
  {
   "cell_type": "code",
   "execution_count": 18,
   "metadata": {},
   "outputs": [
    {
     "name": "stdout",
     "output_type": "stream",
     "text": [
      "Enter number of rows : 5\n",
      "1 \n",
      "2 2 \n",
      "3 3 3 \n",
      "4 4 4 4 \n",
      "5 5 5 5 5 \n"
     ]
    }
   ],
   "source": [
    "# 1 \n",
    "# 2 2 \n",
    "# 3 3 3 \n",
    "# 4 4 4 4 \n",
    "# 5 5 5 5 5 \n",
    "\n",
    "n=int(input(\"Enter number of rows : \"))\n",
    "for i in range(1,n+1):\n",
    "    for j in range(1,i+1):\n",
    "        print(i, end=\" \")\n",
    "    print()"
   ]
  },
  {
   "cell_type": "code",
   "execution_count": 19,
   "metadata": {},
   "outputs": [
    {
     "name": "stdout",
     "output_type": "stream",
     "text": [
      "Enter number of rows : 5\n",
      "1 \n",
      "1 2 \n",
      "1 2 3 \n",
      "1 2 3 4 \n",
      "1 2 3 4 5 \n"
     ]
    }
   ],
   "source": [
    "# 1 \n",
    "# 1 2 \n",
    "# 1 2 3 \n",
    "# 1 2 3 4 \n",
    "# 1 2 3 4 5 \n",
    "\n",
    "n=int(input(\"Enter number of rows : \"))\n",
    "for i in range(1,n+1):\n",
    "    for j in range(1,i+1):\n",
    "        print(j, end=\" \")\n",
    "    print()"
   ]
  },
  {
   "cell_type": "code",
   "execution_count": 25,
   "metadata": {},
   "outputs": [
    {
     "name": "stdout",
     "output_type": "stream",
     "text": [
      "Enter number of rows : 5\n",
      "A \n",
      "A B \n",
      "A B C \n",
      "A B C D \n",
      "A B C D E \n"
     ]
    }
   ],
   "source": [
    "# A \n",
    "# A B \n",
    "# A B C \n",
    "# A B C D \n",
    "# A B C D E \n",
    "\n",
    "n=int(input(\"Enter number of rows : \"))\n",
    "for i in range(1,n+1):\n",
    "    k=65\n",
    "    for j in range(1,i+1):\n",
    "        print(chr(k), end=\" \")\n",
    "        k+=1\n",
    "    print()"
   ]
  },
  {
   "cell_type": "code",
   "execution_count": 26,
   "metadata": {},
   "outputs": [
    {
     "name": "stdout",
     "output_type": "stream",
     "text": [
      "Enter number of rows : 5\n",
      "A \n",
      "B C \n",
      "D E F \n",
      "G H I J \n",
      "K L M N O \n"
     ]
    }
   ],
   "source": [
    "# A \n",
    "# B C \n",
    "# D E F \n",
    "# G H I J \n",
    "# K L M N O\n",
    "\n",
    "n=int(input(\"Enter number of rows : \"))\n",
    "k=65\n",
    "for i in range(1,n+1):\n",
    "    for j in range(1,i+1):\n",
    "        print(chr(k), end=\" \")\n",
    "        k+=1\n",
    "    print()"
   ]
  },
  {
   "cell_type": "code",
   "execution_count": 27,
   "metadata": {},
   "outputs": [
    {
     "name": "stdout",
     "output_type": "stream",
     "text": [
      "Enter number of rows : 5\n",
      "1 \n",
      "0 1 \n",
      "1 0 1 \n",
      "0 1 0 1 \n",
      "1 0 1 0 1 \n"
     ]
    }
   ],
   "source": [
    "# 1 \n",
    "# 0 1 \n",
    "# 1 0 1 \n",
    "# 0 1 0 1 \n",
    "# 1 0 1 0 1 \n",
    "\n",
    "n=int(input(\"Enter number of rows : \"))\n",
    "for i in range(1,n+1):\n",
    "    for j in range(1,i+1):\n",
    "        if (i+j)%2==0:\n",
    "            print(\"1\", end=\" \")\n",
    "        else:\n",
    "            print(\"0\", end=\" \")\n",
    "    print()"
   ]
  },
  {
   "cell_type": "code",
   "execution_count": 31,
   "metadata": {},
   "outputs": [
    {
     "name": "stdout",
     "output_type": "stream",
     "text": [
      "Enter number of rows : 5\n",
      "1 \n",
      "0 1 \n",
      "1 0 1 \n",
      "0 1 0 1 \n",
      "1 0 1 0 1 \n"
     ]
    }
   ],
   "source": [
    "# Another Way without if else\n",
    "n=int(input(\"Enter number of rows : \"))\n",
    "for i in range(1,n+1):\n",
    "    for j in range(1,i+1):\n",
    "         print((i+j-1)%2, end=\" \")\n",
    "    print()"
   ]
  },
  {
   "cell_type": "code",
   "execution_count": 29,
   "metadata": {},
   "outputs": [
    {
     "name": "stdout",
     "output_type": "stream",
     "text": [
      "Enter number of rows : 5\n",
      "0 \n",
      "1 1 \n",
      "0 0 0 \n",
      "1 1 1 1 \n",
      "0 0 0 0 0 \n"
     ]
    }
   ],
   "source": [
    "# 0 \n",
    "# 1 1 \n",
    "# 0 0 0 \n",
    "# 1 1 1 1 \n",
    "# 0 0 0 0 0 \n",
    "# This is also do by another way like above\n",
    "n=int(input(\"Enter number of rows : \"))\n",
    "for i in range(1,n+1):\n",
    "    for j in range(1,i+1):\n",
    "        if i%2==0:\n",
    "            print(\"1\", end=\" \")\n",
    "        else:\n",
    "            print(\"0\", end=\" \")\n",
    "    print()"
   ]
  },
  {
   "cell_type": "code",
   "execution_count": 32,
   "metadata": {},
   "outputs": [
    {
     "name": "stdout",
     "output_type": "stream",
     "text": [
      "Enter number of rows : 5\n",
      "* \n",
      "# # \n",
      "* * * \n",
      "# # # # \n",
      "* * * * * \n"
     ]
    }
   ],
   "source": [
    "# * \n",
    "# # # \n",
    "# * * * \n",
    "# # # # # \n",
    "# * * * * * \n",
    "\n",
    "n=int(input(\"Enter number of rows : \"))\n",
    "for i in range(1,n+1):\n",
    "    for j in range(1,i+1):\n",
    "        if i%2==0:\n",
    "            print(\"#\", end=\" \")\n",
    "        else:\n",
    "            print(\"*\", end=\" \")\n",
    "    print()"
   ]
  },
  {
   "cell_type": "code",
   "execution_count": 35,
   "metadata": {},
   "outputs": [
    {
     "name": "stdout",
     "output_type": "stream",
     "text": [
      "Enter number of rows : 5\n",
      "* * * * * \n",
      "* * * * \n",
      "* * * \n",
      "* * \n",
      "* \n"
     ]
    }
   ],
   "source": [
    "# * * * * * \n",
    "# * * * * \n",
    "# * * * \n",
    "# * * \n",
    "# * \n",
    "\n",
    "n=int(input(\"Enter number of rows : \"))\n",
    "for i in range(1,n+1):\n",
    "    for j in range(i,n+1):\n",
    "         print(\"*\", end=\" \")\n",
    "    print()"
   ]
  },
  {
   "cell_type": "code",
   "execution_count": 36,
   "metadata": {},
   "outputs": [
    {
     "name": "stdout",
     "output_type": "stream",
     "text": [
      "Enter number of rows : 5\n",
      "1 1 1 1 1 \n",
      "2 2 2 2 \n",
      "3 3 3 \n",
      "4 4 \n",
      "5 \n"
     ]
    }
   ],
   "source": [
    "# 1 1 1 1 1 \n",
    "# 2 2 2 2 \n",
    "# 3 3 3 \n",
    "# 4 4 \n",
    "# 5\n",
    "\n",
    "n=int(input(\"Enter number of rows : \"))\n",
    "for i in range(1,n+1):\n",
    "    for j in range(i,n+1):\n",
    "         print(i, end=\" \")\n",
    "    print()"
   ]
  },
  {
   "cell_type": "code",
   "execution_count": 42,
   "metadata": {},
   "outputs": [
    {
     "name": "stdout",
     "output_type": "stream",
     "text": [
      "Enter number of rows : 5\n",
      "1 2 3 4 5 \n",
      "2 3 4 5 \n",
      "3 4 5 \n",
      "4 5 \n",
      "5 \n"
     ]
    }
   ],
   "source": [
    "# 1 2 3 4 5 \n",
    "# 2 3 4 5 \n",
    "# 3 4 5 \n",
    "# 4 5 \n",
    "# 5 \n",
    "\n",
    "n=int(input(\"Enter number of rows : \"))\n",
    "for i in range(1,n+1):\n",
    "    for j in range(i,n+1):\n",
    "         print(j, end=\" \")\n",
    "    print()"
   ]
  },
  {
   "cell_type": "code",
   "execution_count": 41,
   "metadata": {},
   "outputs": [
    {
     "name": "stdout",
     "output_type": "stream",
     "text": [
      "Enter number of rows : 5\n",
      "5 4 3 2 1 \n",
      "5 4 3 2 \n",
      "5 4 3 \n",
      "5 4 \n",
      "5 \n"
     ]
    }
   ],
   "source": [
    "# 5 4 3 2 1 \n",
    "# 5 4 3 2 \n",
    "# 5 4 3 \n",
    "# 5 4 \n",
    "# 5 \n",
    "\n",
    "n=int(input(\"Enter number of rows : \"))\n",
    "for i in range(1,n+1):\n",
    "    for j in range(n,i-1,-1):\n",
    "         print(j, end=\" \")\n",
    "    print()"
   ]
  },
  {
   "cell_type": "code",
   "execution_count": 3,
   "metadata": {},
   "outputs": [
    {
     "name": "stdout",
     "output_type": "stream",
     "text": [
      "Enter number of rows : 5\n",
      "1 2 3 4 5 \n",
      "1 2 3 4 \n",
      "1 2 3 \n",
      "1 2 \n",
      "1 \n"
     ]
    }
   ],
   "source": [
    "# 1 2 3 4 5 \n",
    "# 1 2 3 4 \n",
    "# 1 2 3 \n",
    "# 1 2 \n",
    "# 1 \n",
    "\n",
    "n=int(input(\"Enter number of rows : \"))\n",
    "for i in range(1,n+1):\n",
    "    for j in range(i,n+1):\n",
    "         print(j-i+1, end=\" \")\n",
    "    print()"
   ]
  },
  {
   "cell_type": "code",
   "execution_count": 17,
   "metadata": {},
   "outputs": [
    {
     "name": "stdout",
     "output_type": "stream",
     "text": [
      "Enter number of rows : 5\n",
      "     * \n",
      "    * * \n",
      "   * * * \n",
      "  * * * * \n",
      " * * * * * \n"
     ]
    }
   ],
   "source": [
    "#      * \n",
    "#     * * \n",
    "#    * * * \n",
    "#   * * * * \n",
    "#  * * * * * \n",
    "n=int(input(\"Enter number of rows : \"))\n",
    "for i in range(1,n+1):\n",
    "    for j in range(i,n+1):\n",
    "        print(\"\",end=\" \")\n",
    "    for k in range(1,i+1):\n",
    "        print(\"*\",end=\" \")\n",
    "    print()"
   ]
  },
  {
   "cell_type": "code",
   "execution_count": 21,
   "metadata": {},
   "outputs": [
    {
     "name": "stdout",
     "output_type": "stream",
     "text": [
      "Enter number of rows : 5\n",
      "     *\n",
      "    **\n",
      "   ***\n",
      "  ****\n",
      " *****\n"
     ]
    }
   ],
   "source": [
    "#      *\n",
    "#     **\n",
    "#    ***\n",
    "#   ****\n",
    "#  *****\n",
    "n=int(input(\"Enter number of rows : \"))\n",
    "for i in range(1,n+1):\n",
    "    for j in range(i,n+1):\n",
    "        print(\" \",end=\"\")\n",
    "    for k in range(1,i+1):\n",
    "        print(\"*\",end=\"\")\n",
    "    print()"
   ]
  },
  {
   "cell_type": "code",
   "execution_count": 4,
   "metadata": {},
   "outputs": [
    {
     "name": "stdout",
     "output_type": "stream",
     "text": [
      "Enter number of rows : 5\n",
      "          * \n",
      "        * * \n",
      "      * * * \n",
      "    * * * * \n",
      "  * * * * * \n"
     ]
    }
   ],
   "source": [
    "# *****\n",
    "#  ****\n",
    "#   ***\n",
    "#    **\n",
    "#     *\n",
    "n=int(input(\"Enter number of rows : \"))\n",
    "for i in range(1,n+1):\n",
    "    for j in range(n+1,i,-1):\n",
    "        print(\" \",end=\" \")\n",
    "    for k in range(1,i+1):\n",
    "        print(\"*\",end=\" \")\n",
    "    print()"
   ]
  },
  {
   "cell_type": "code",
   "execution_count": null,
   "metadata": {},
   "outputs": [],
   "source": []
  }
 ],
 "metadata": {
  "kernelspec": {
   "display_name": "Python 3",
   "language": "python",
   "name": "python3"
  },
  "language_info": {
   "codemirror_mode": {
    "name": "ipython",
    "version": 3
   },
   "file_extension": ".py",
   "mimetype": "text/x-python",
   "name": "python",
   "nbconvert_exporter": "python",
   "pygments_lexer": "ipython3",
   "version": "3.8.5"
  }
 },
 "nbformat": 4,
 "nbformat_minor": 4
}
