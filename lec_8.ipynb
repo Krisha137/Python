{
 "cells": [
  {
   "cell_type": "code",
   "execution_count": 7,
   "metadata": {},
   "outputs": [
    {
     "name": "stdout",
     "output_type": "stream",
     "text": [
      "Enter num : 5\n",
      " *****\n",
      "  ****\n",
      "   ***\n",
      "    **\n",
      "     *\n"
     ]
    }
   ],
   "source": [
    "#   * * * * * \n",
    "#     * * * * \n",
    "#       * * * \n",
    "#         * * \n",
    "#           * \n",
    "\n",
    "n=int(input(\"Enter num : \"))\n",
    "for i in range(1,n+1):\n",
    "    for j in range(1,i+1):\n",
    "        print(\" \",end=\"\")\n",
    "    for k in range(i,n+1):\n",
    "        print(\"*\",end=\"\")\n",
    "    print()"
   ]
  },
  {
   "cell_type": "code",
   "execution_count": 9,
   "metadata": {},
   "outputs": [
    {
     "name": "stdout",
     "output_type": "stream",
     "text": [
      "Enter num : 5\n",
      " * * * * * \n",
      "  * * * * \n",
      "   * * * \n",
      "    * * \n",
      "     * \n"
     ]
    }
   ],
   "source": [
    "n=int(input(\"Enter num : \"))\n",
    "for i in range(1,n+1):\n",
    "    for j in range(1,i+1):\n",
    "        print(\" \",end=\"\")\n",
    "    for k in range(i,n+1):\n",
    "        print(\"*\",end=\" \")\n",
    "    print()"
   ]
  },
  {
   "cell_type": "code",
   "execution_count": 8,
   "metadata": {},
   "outputs": [
    {
     "name": "stdout",
     "output_type": "stream",
     "text": [
      "Enter num : 5\n",
      " 54321\n",
      "  5432\n",
      "   543\n",
      "    54\n",
      "     5\n"
     ]
    }
   ],
   "source": [
    "#  54321\n",
    "#   5432\n",
    "#    543\n",
    "#     54\n",
    "#      5\n",
    "n=int(input(\"Enter num : \"))\n",
    "for i in range(1,n+1):\n",
    "    for j in range(1,i+1):\n",
    "        print(\" \",end=\"\")\n",
    "    for k in range(n,i-1,-1):\n",
    "        print(k,end=\"\")\n",
    "    print()"
   ]
  },
  {
   "cell_type": "code",
   "execution_count": 15,
   "metadata": {},
   "outputs": [
    {
     "name": "stdout",
     "output_type": "stream",
     "text": [
      "Enter num : 5\n",
      " 54321\n",
      "  4321\n",
      "   321\n",
      "    21\n",
      "     1\n"
     ]
    }
   ],
   "source": [
    "#  54321\n",
    "#   4321\n",
    "#    321\n",
    "#     21\n",
    "#      1\n",
    "\n",
    "n=int(input(\"Enter num : \"))\n",
    "for i in range(1,n+1):\n",
    "    for j in range(1,i+1):\n",
    "        print(\" \",end=\"\")\n",
    "    for k in range(n,i-1,-1):\n",
    "        print(k-i+1,end=\"\")\n",
    "    print()"
   ]
  },
  {
   "cell_type": "code",
   "execution_count": 16,
   "metadata": {},
   "outputs": [
    {
     "name": "stdout",
     "output_type": "stream",
     "text": [
      "Enter num : 5\n",
      " 12345\n",
      "  1234\n",
      "   123\n",
      "    12\n",
      "     1\n"
     ]
    }
   ],
   "source": [
    "#  12345\n",
    "#   1234\n",
    "#    123\n",
    "#     12\n",
    "#      1\n",
    "n=int(input(\"Enter num : \"))\n",
    "for i in range(1,n+1):\n",
    "    for j in range(1,i+1):\n",
    "        print(\" \",end=\"\")\n",
    "    for k in range(i,n+1):\n",
    "        print(k-i+1,end=\"\")\n",
    "    print()"
   ]
  },
  {
   "cell_type": "markdown",
   "metadata": {},
   "source": [
    "#  WAP to count total odd and even number and also do the sum of them. take a input from user for the total number."
   ]
  },
  {
   "cell_type": "code",
   "execution_count": 10,
   "metadata": {},
   "outputs": [
    {
     "name": "stdout",
     "output_type": "stream",
     "text": [
      "Enter number for sum : 5\n",
      "Enter num : 1\n",
      "Enter num : 2\n",
      "Enter num : 3\n",
      "Enter num : 4\n",
      "Enter num : 5\n",
      "Even number count :  2\n",
      "Sum of Even number :  6\n",
      "Odd number count :  3\n",
      "Sum of Odd number :  9\n"
     ]
    }
   ],
   "source": [
    "n=int(input(\"Enter number for sum : \"))\n",
    "even_sum=0\n",
    "even=0\n",
    "odd_sum=0\n",
    "odd=0\n",
    "for i in range(1,n+1):\n",
    "    num=int(input(\"Enter num : \"))\n",
    "    if num%2==0:\n",
    "        even_sum+=num\n",
    "        even+=1\n",
    "    else :\n",
    "        odd_sum+=num\n",
    "        odd+=1\n",
    "print(\"Even number count : \",even)\n",
    "print(\"Sum of Even number : \",even_sum)\n",
    "print(\"Odd number count : \",odd)\n",
    "print(\"Sum of Odd number : \",odd_sum)"
   ]
  },
  {
   "cell_type": "markdown",
   "metadata": {},
   "source": [
    "# WAP to compute the product of the odd digit's in a given number or 0 if there are not any odd number's."
   ]
  },
  {
   "cell_type": "code",
   "execution_count": 7,
   "metadata": {},
   "outputs": [
    {
     "name": "stdout",
     "output_type": "stream",
     "text": [
      "Enter num : 123456789\n",
      "Multiply :  945\n"
     ]
    }
   ],
   "source": [
    "n=int(input(\"Enter num : \"))\n",
    "odd=1\n",
    "while n>0:\n",
    "    num=n%10\n",
    "    if num%2!=0:\n",
    "        odd*=num\n",
    "    n=n//10\n",
    "if odd!=1:\n",
    "    print(\"Multiply : \",odd)\n",
    "else:\n",
    "     print(\"Multiply : 0 \")"
   ]
  },
  {
   "cell_type": "code",
   "execution_count": 9,
   "metadata": {},
   "outputs": [
    {
     "name": "stdout",
     "output_type": "stream",
     "text": [
      "Enter num : 2648\n",
      "Multiply : 0 \n"
     ]
    }
   ],
   "source": [
    "n=int(input(\"Enter num : \"))\n",
    "odd=1\n",
    "while n>0:\n",
    "    num=n%10\n",
    "    if num%2!=0:\n",
    "        odd*=num\n",
    "    n=n//10\n",
    "if odd!=1:\n",
    "    print(\"Multiply : \",odd)\n",
    "else:\n",
    "     print(\"Multiply : 0 \")"
   ]
  },
  {
   "cell_type": "markdown",
   "metadata": {},
   "source": [
    "# WAP to check given number is disarium number or not."
   ]
  },
  {
   "cell_type": "code",
   "execution_count": 17,
   "metadata": {},
   "outputs": [
    {
     "name": "stdout",
     "output_type": "stream",
     "text": [
      "Enter number : 175\n",
      "175  is a disarium number.\n"
     ]
    }
   ],
   "source": [
    "n=int(input(\"Enter number : \"))\n",
    "s=str(n)\n",
    "c=len(s)\n",
    "sum=0\n",
    "temp=n\n",
    "while n>0:\n",
    "    num=n%10\n",
    "    sum+=num**c\n",
    "    c-=1\n",
    "    n=n//10\n",
    "if temp==sum:\n",
    "    print(temp,\" is a disarium number.\")\n",
    "else:\n",
    "    print(temp,\" is not a disarium number.\")"
   ]
  },
  {
   "cell_type": "code",
   "execution_count": 18,
   "metadata": {},
   "outputs": [
    {
     "name": "stdout",
     "output_type": "stream",
     "text": [
      "Enter number : 1563\n",
      "1563  is not a disarium number.\n"
     ]
    }
   ],
   "source": [
    "n=int(input(\"Enter number : \"))\n",
    "s=str(n)\n",
    "c=len(s)\n",
    "sum=0\n",
    "temp=n\n",
    "while n>0:\n",
    "    num=n%10\n",
    "    sum+=num**c\n",
    "    c-=1\n",
    "    n=n//10\n",
    "if temp==sum:\n",
    "    print(temp,\" is a disarium number.\")\n",
    "else:\n",
    "    print(temp,\" is not a disarium number.\")"
   ]
  },
  {
   "cell_type": "markdown",
   "metadata": {},
   "source": [
    "# -----------------------------------------------------------------------------------------------------------"
   ]
  },
  {
   "cell_type": "markdown",
   "metadata": {},
   "source": [
    "# Unit - 3   --> Function and Scoping\n",
    "   "
   ]
  },
  {
   "cell_type": "markdown",
   "metadata": {},
   "source": [
    "# -----------------------------------------------------------------------------------------------------------"
   ]
  },
  {
   "cell_type": "markdown",
   "metadata": {},
   "source": [
    "## 1.Built in Function"
   ]
  },
  {
   "cell_type": "markdown",
   "metadata": {},
   "source": [
    "- print,type,input"
   ]
  },
  {
   "cell_type": "markdown",
   "metadata": {},
   "source": [
    "## 2. User defined Function"
   ]
  },
  {
   "cell_type": "code",
   "execution_count": 12,
   "metadata": {},
   "outputs": [],
   "source": [
    "# def function_name(parameters):\n",
    "#        body of function\n",
    "#        return value"
   ]
  },
  {
   "cell_type": "markdown",
   "metadata": {},
   "source": [
    "- def(mandatory)"
   ]
  },
  {
   "cell_type": "markdown",
   "metadata": {},
   "source": [
    "- return(optional)"
   ]
  },
  {
   "cell_type": "code",
   "execution_count": 20,
   "metadata": {},
   "outputs": [],
   "source": [
    "def wish(name):\n",
    "    print(\"Hello \",name , \" Good Morning.\")"
   ]
  },
  {
   "cell_type": "code",
   "execution_count": 21,
   "metadata": {},
   "outputs": [
    {
     "name": "stdout",
     "output_type": "stream",
     "text": [
      "Hello  Arman  Good Morning.\n"
     ]
    }
   ],
   "source": [
    "wish(\"Arman\")"
   ]
  },
  {
   "cell_type": "code",
   "execution_count": 22,
   "metadata": {},
   "outputs": [
    {
     "name": "stdout",
     "output_type": "stream",
     "text": [
      "Hello  John  Good Morning.\n",
      "Hello  Aryan  Good Morning.\n"
     ]
    }
   ],
   "source": [
    "def wish(name):\n",
    "    print(\"Hello \",name , \" Good Morning.\")\n",
    "wish(\"John\")\n",
    "wish(\"Aryan\")"
   ]
  },
  {
   "cell_type": "markdown",
   "metadata": {},
   "source": [
    "# Different Categories of User defined function."
   ]
  },
  {
   "cell_type": "markdown",
   "metadata": {},
   "source": [
    "## 1. Function with no Parameteres and no Return type"
   ]
  },
  {
   "cell_type": "code",
   "execution_count": 2,
   "metadata": {},
   "outputs": [
    {
     "name": "stdout",
     "output_type": "stream",
     "text": [
      "Enter name : Aryan\n",
      "Aryan\n"
     ]
    }
   ],
   "source": [
    "def printline():\n",
    "    s=input(\"Enter name : \")\n",
    "    print(s)\n",
    "printline()"
   ]
  },
  {
   "cell_type": "markdown",
   "metadata": {},
   "source": [
    "## 2. Function with  Parameteres and no Return type¶"
   ]
  },
  {
   "cell_type": "code",
   "execution_count": 3,
   "metadata": {},
   "outputs": [
    {
     "name": "stdout",
     "output_type": "stream",
     "text": [
      "Enter name : mira\n",
      "mira\n"
     ]
    }
   ],
   "source": [
    "def printline(s):\n",
    "    print(s)\n",
    "x=input(\"Enter name : \")\n",
    "printline(x)"
   ]
  },
  {
   "cell_type": "markdown",
   "metadata": {},
   "source": [
    "## 3.Function with Parameteres and with Return type¶"
   ]
  },
  {
   "cell_type": "code",
   "execution_count": 9,
   "metadata": {},
   "outputs": [
    {
     "name": "stdout",
     "output_type": "stream",
     "text": [
      "Enter name : ram\n"
     ]
    },
    {
     "data": {
      "text/plain": [
       "'ram'"
      ]
     },
     "execution_count": 9,
     "metadata": {},
     "output_type": "execute_result"
    }
   ],
   "source": [
    "def printline(s):\n",
    "    return s\n",
    "s=input(\"Enter name : \")\n",
    "printline(s) \n",
    "# if this is the last line then this will be print on outside the function othervise not print."
   ]
  },
  {
   "cell_type": "code",
   "execution_count": 7,
   "metadata": {},
   "outputs": [
    {
     "name": "stdout",
     "output_type": "stream",
     "text": [
      "Enter name : rihan\n",
      "Hello\n"
     ]
    }
   ],
   "source": [
    "def printline(s):\n",
    "    return s\n",
    "s=input(\"Enter name : \")\n",
    "printline(s)\n",
    "print(\"Hello\")"
   ]
  },
  {
   "cell_type": "code",
   "execution_count": 10,
   "metadata": {},
   "outputs": [
    {
     "name": "stdout",
     "output_type": "stream",
     "text": [
      "Enter name : lisa\n",
      "lisa\n"
     ]
    }
   ],
   "source": [
    "def printline(s):\n",
    "    return s\n",
    "s=input(\"Enter name : \")\n",
    "t=printline(s)\n",
    "# You should store this in any variable for print.\n",
    "print(t)"
   ]
  },
  {
   "cell_type": "markdown",
   "metadata": {},
   "source": [
    "## 4. .Function with No Parameteres and with Return type"
   ]
  },
  {
   "cell_type": "code",
   "execution_count": 11,
   "metadata": {},
   "outputs": [
    {
     "name": "stdout",
     "output_type": "stream",
     "text": [
      "Enter name : Apple\n",
      "Apple\n"
     ]
    }
   ],
   "source": [
    "def printline():\n",
    "    s=input(\"Enter name : \")\n",
    "    return s\n",
    "t=printline()\n",
    "print(t)"
   ]
  },
  {
   "cell_type": "markdown",
   "metadata": {},
   "source": [
    "# WAF to accept  n and print odd number's between 1 to n."
   ]
  },
  {
   "cell_type": "code",
   "execution_count": 17,
   "metadata": {},
   "outputs": [
    {
     "name": "stdout",
     "output_type": "stream",
     "text": [
      "Enter number : 5\n",
      "1\n",
      "3\n",
      "5\n"
     ]
    }
   ],
   "source": [
    "def odd(n):\n",
    "    for i in range(1,n+1):\n",
    "        if i%2!=0:\n",
    "            print (i)\n",
    "n=int(input(\"Enter number : \"))\n",
    "odd(n)"
   ]
  },
  {
   "cell_type": "code",
   "execution_count": 2,
   "metadata": {},
   "outputs": [
    {
     "name": "stdout",
     "output_type": "stream",
     "text": [
      "Enter number : 7\n",
      "Odd number's :  1  3  5  7  "
     ]
    }
   ],
   "source": [
    "def odd(n):\n",
    "    print(\"Odd number's : \",end=\" \")\n",
    "    for i in range(1,n+1):\n",
    "        if i%2!=0:\n",
    "            print (i , end=\"  \")\n",
    "n=int(input(\"Enter number : \"))\n",
    "odd(n)"
   ]
  },
  {
   "cell_type": "markdown",
   "metadata": {},
   "source": [
    "# Return Statement"
   ]
  },
  {
   "cell_type": "code",
   "execution_count": 3,
   "metadata": {},
   "outputs": [
    {
     "name": "stdout",
     "output_type": "stream",
     "text": [
      "30\n",
      "30\n"
     ]
    }
   ],
   "source": [
    "def add(x,y):\n",
    "    return x+y\n",
    "result =add(10,20)\n",
    "print(result)\n",
    "print(add(20,10))"
   ]
  },
  {
   "cell_type": "code",
   "execution_count": 5,
   "metadata": {},
   "outputs": [
    {
     "name": "stdout",
     "output_type": "stream",
     "text": [
      "None\n",
      "None\n"
     ]
    }
   ],
   "source": [
    "def add(x,y):\n",
    "     x+y\n",
    "result =add(10,20)\n",
    "print(result)\n",
    "print(add(20,10))\n",
    "# if you will not return anything in fuction then function by defult return 'none'."
   ]
  },
  {
   "cell_type": "code",
   "execution_count": 7,
   "metadata": {},
   "outputs": [
    {
     "name": "stdout",
     "output_type": "stream",
     "text": [
      "(70, -10)\n"
     ]
    }
   ],
   "source": [
    "def sum_sub(a,b):\n",
    "    sum=a+b\n",
    "    sub=a-b\n",
    "    return sum,sub\n",
    "# multipal value return in tuple like this...\n",
    "x=sum_sub(30,40)\n",
    "print(x)"
   ]
  },
  {
   "cell_type": "code",
   "execution_count": 9,
   "metadata": {},
   "outputs": [
    {
     "name": "stdout",
     "output_type": "stream",
     "text": [
      "Sum :  70\n",
      "Sub :  -10\n"
     ]
    }
   ],
   "source": [
    "def sum_sub(a,b):\n",
    "    sum=a+b\n",
    "    sub=a-b\n",
    "    return sum,sub\n",
    "# other wise you have define variable as well as return value like this....\n",
    "x,y=sum_sub(30,40)\n",
    "print(\"Sum : \",x)\n",
    "print(\"Sub : \",y)"
   ]
  },
  {
   "cell_type": "markdown",
   "metadata": {},
   "source": [
    "# Docstring"
   ]
  },
  {
   "cell_type": "code",
   "execution_count": 12,
   "metadata": {},
   "outputs": [
    {
     "data": {
      "text/plain": [
       "4.47213595499958"
      ]
     },
     "execution_count": 12,
     "metadata": {},
     "output_type": "execute_result"
    }
   ],
   "source": [
    "import math"
   ]
  },
  {
   "cell_type": "code",
   "execution_count": 14,
   "metadata": {},
   "outputs": [
    {
     "data": {
      "text/plain": [
       "5.0"
      ]
     },
     "execution_count": 14,
     "metadata": {},
     "output_type": "execute_result"
    }
   ],
   "source": [
    "math.sqrt(25)\n",
    "#  shift+tab"
   ]
  },
  {
   "cell_type": "code",
   "execution_count": 20,
   "metadata": {},
   "outputs": [
    {
     "name": "stdout",
     "output_type": "stream",
     "text": [
      "Return the square root of x.\n"
     ]
    }
   ],
   "source": [
    "math.sqrt(25)\n",
    "print(math.sqrt.__doc__)"
   ]
  },
  {
   "cell_type": "code",
   "execution_count": 15,
   "metadata": {},
   "outputs": [
    {
     "name": "stdout",
     "output_type": "stream",
     "text": [
      "25\n"
     ]
    }
   ],
   "source": [
    "def squared_number(x):\n",
    "    \"\"\"Argument passed into x returns squre of x.\"\"\"\n",
    "#     this line will show when we put curser on calling function and enter (shift+tab) \n",
    "#        in docstring\n",
    "    return x*x\n",
    "t=squared_number(5)\n",
    "print(t)"
   ]
  },
  {
   "cell_type": "code",
   "execution_count": 18,
   "metadata": {},
   "outputs": [
    {
     "name": "stdout",
     "output_type": "stream",
     "text": [
      "25\n",
      "Argument passed into x returns squre of x.\n"
     ]
    }
   ],
   "source": [
    "def squared_number(x):\n",
    "    \"\"\"Argument passed into x returns squre of x.\"\"\"\n",
    "    return x*x\n",
    "t=squared_number(5)\n",
    "print(t)\n",
    "#  if you want to print that massage in display then write like this...\n",
    "print(squared_number.__doc__)"
   ]
  },
  {
   "cell_type": "markdown",
   "metadata": {},
   "source": [
    "# Types Of Argument's."
   ]
  },
  {
   "cell_type": "markdown",
   "metadata": {},
   "source": [
    "- 1.Possional Argument"
   ]
  },
  {
   "cell_type": "markdown",
   "metadata": {},
   "source": [
    "- 2.Formal Argument"
   ]
  },
  {
   "cell_type": "markdown",
   "metadata": {},
   "source": [
    "- 3.Defult Argument"
   ]
  },
  {
   "cell_type": "markdown",
   "metadata": {},
   "source": [
    "- 4.Variable Length Argument"
   ]
  },
  {
   "cell_type": "code",
   "execution_count": 21,
   "metadata": {},
   "outputs": [],
   "source": [
    "# Formal Argument\n",
    "#  def f1(a,b):\n",
    "#       ------\n",
    "#       ------\n",
    "#       ------"
   ]
  },
  {
   "cell_type": "code",
   "execution_count": null,
   "metadata": {},
   "outputs": [],
   "source": [
    "# Acual Argument\n",
    "#  def f1(10,20):\n",
    "#       ------\n",
    "#       ------\n",
    "#       ------"
   ]
  },
  {
   "cell_type": "markdown",
   "metadata": {},
   "source": [
    "## 1. Positional Argument"
   ]
  },
  {
   "cell_type": "code",
   "execution_count": 22,
   "metadata": {},
   "outputs": [
    {
     "name": "stdout",
     "output_type": "stream",
     "text": [
      "-10\n",
      "10\n"
     ]
    }
   ],
   "source": [
    "def sub(a,b):\n",
    "    print(a-b)\n",
    "sub(10,20)\n",
    "sub(20,10)"
   ]
  },
  {
   "cell_type": "code",
   "execution_count": 27,
   "metadata": {},
   "outputs": [
    {
     "name": "stdout",
     "output_type": "stream",
     "text": [
      "Hello  Arman  Good Morning\n",
      "Hello   Good Morning Arman\n"
     ]
    }
   ],
   "source": [
    "def wish(name,msg):\n",
    "    print(\"Hello \",name, msg)\n",
    "wish(\"Arman\",\" Good Morning\")\n",
    "wish(\" Good Morning\",\"Arman\")"
   ]
  },
  {
   "cell_type": "markdown",
   "metadata": {},
   "source": [
    "## 2. Keyword Argument"
   ]
  },
  {
   "cell_type": "code",
   "execution_count": 26,
   "metadata": {},
   "outputs": [
    {
     "name": "stdout",
     "output_type": "stream",
     "text": [
      "Hello  Arman  Good Morning\n",
      "Hello  Arman  Good Morning\n"
     ]
    }
   ],
   "source": [
    "def wish(name,msg):\n",
    "    print(\"Hello \",name, msg)\n",
    "wish(name=\"Arman\",msg=\" Good Morning\")\n",
    "wish(msg=\" Good Morning\" ,name=\"Arman\")"
   ]
  },
  {
   "cell_type": "code",
   "execution_count": 32,
   "metadata": {},
   "outputs": [
    {
     "name": "stdout",
     "output_type": "stream",
     "text": [
      "Hello  Arman  Good Morning\n"
     ]
    }
   ],
   "source": [
    "wish(\"Arman\",msg=\" Good Morning\")\n",
    "#  first positional then Keyword this is the order you need to follow."
   ]
  },
  {
   "cell_type": "code",
   "execution_count": 31,
   "metadata": {},
   "outputs": [
    {
     "ename": "SyntaxError",
     "evalue": "positional argument follows keyword argument (<ipython-input-31-5c56af9b9a17>, line 1)",
     "output_type": "error",
     "traceback": [
      "\u001b[1;36m  File \u001b[1;32m\"<ipython-input-31-5c56af9b9a17>\"\u001b[1;36m, line \u001b[1;32m1\u001b[0m\n\u001b[1;33m    wish(name=\" Arman \",\"Good Morning\")\u001b[0m\n\u001b[1;37m                        ^\u001b[0m\n\u001b[1;31mSyntaxError\u001b[0m\u001b[1;31m:\u001b[0m positional argument follows keyword argument\n"
     ]
    }
   ],
   "source": [
    "wish(name=\" Arman \",\"Good Morning\")"
   ]
  },
  {
   "cell_type": "markdown",
   "metadata": {},
   "source": [
    "## 3.  Defult Argument"
   ]
  },
  {
   "cell_type": "code",
   "execution_count": 33,
   "metadata": {},
   "outputs": [
    {
     "name": "stdout",
     "output_type": "stream",
     "text": [
      "Hello Arman\n",
      "Hello Guest\n"
     ]
    }
   ],
   "source": [
    "def wish(name=\"Guest\"):\n",
    "    print(\"Hello\",name)\n",
    "wish(\"Arman\")\n",
    "wish()"
   ]
  },
  {
   "cell_type": "markdown",
   "metadata": {},
   "source": [
    "## 4. Variable Length Argument"
   ]
  },
  {
   "cell_type": "code",
   "execution_count": 36,
   "metadata": {},
   "outputs": [
    {
     "name": "stdout",
     "output_type": "stream",
     "text": [
      "(10, 20, 30)\n",
      "The sum is :  60\n"
     ]
    }
   ],
   "source": [
    "# def f1(*n)\n",
    "\n",
    "def sum(*n):\n",
    "    print(n)\n",
    "    total=0\n",
    "    for n1 in n:\n",
    "        total+=n1\n",
    "    print(\"The sum is : \",total)\n",
    "sum(10,20,30)"
   ]
  },
  {
   "cell_type": "code",
   "execution_count": 37,
   "metadata": {},
   "outputs": [
    {
     "name": "stdout",
     "output_type": "stream",
     "text": [
      "The sum is :  10\n",
      "The sum is :  0\n"
     ]
    }
   ],
   "source": [
    "def sum(*n):\n",
    "    total=0\n",
    "    for n1 in n:\n",
    "        total+=n1\n",
    "    print(\"The sum is : \",total)\n",
    "sum(10)\n",
    "sum()"
   ]
  },
  {
   "cell_type": "code",
   "execution_count": 41,
   "metadata": {},
   "outputs": [
    {
     "name": "stdout",
     "output_type": "stream",
     "text": [
      "n1 :  10\n",
      "S :  \n",
      "n1 :  10\n",
      "S :  20 30 40 \n",
      "n1 :  10\n",
      "S :  A B C \n"
     ]
    }
   ],
   "source": [
    "def f1(n1,*s):\n",
    "    print(\"n1 : \" ,n1)\n",
    "    print(\"S : \",end=\" \")\n",
    "    for i in s:\n",
    "        print(i,end=\" \")\n",
    "    print()\n",
    "f1(10)\n",
    "f1(10,20,30,40)\n",
    "f1(10,\"A\",\"B\",\"C\")"
   ]
  },
  {
   "cell_type": "code",
   "execution_count": 42,
   "metadata": {},
   "outputs": [
    {
     "ename": "TypeError",
     "evalue": "f1() missing 1 required positional argument: 'n1'",
     "output_type": "error",
     "traceback": [
      "\u001b[1;31m---------------------------------------------------------------------------\u001b[0m",
      "\u001b[1;31mTypeError\u001b[0m                                 Traceback (most recent call last)",
      "\u001b[1;32m<ipython-input-42-b27bf7c7aafe>\u001b[0m in \u001b[0;36m<module>\u001b[1;34m\u001b[0m\n\u001b[1;32m----> 1\u001b[1;33m \u001b[0mf1\u001b[0m\u001b[1;33m(\u001b[0m\u001b[1;33m)\u001b[0m\u001b[1;33m\u001b[0m\u001b[1;33m\u001b[0m\u001b[0m\n\u001b[0m",
      "\u001b[1;31mTypeError\u001b[0m: f1() missing 1 required positional argument: 'n1'"
     ]
    }
   ],
   "source": [
    "f1()"
   ]
  },
  {
   "cell_type": "code",
   "execution_count": 48,
   "metadata": {},
   "outputs": [
    {
     "ename": "TypeError",
     "evalue": "f1() got multiple values for argument 'n1'",
     "output_type": "error",
     "traceback": [
      "\u001b[1;31m---------------------------------------------------------------------------\u001b[0m",
      "\u001b[1;31mTypeError\u001b[0m                                 Traceback (most recent call last)",
      "\u001b[1;32m<ipython-input-48-c3a539709cfd>\u001b[0m in \u001b[0;36m<module>\u001b[1;34m\u001b[0m\n\u001b[0;32m      5\u001b[0m         \u001b[0mprint\u001b[0m\u001b[1;33m(\u001b[0m\u001b[0mi\u001b[0m\u001b[1;33m,\u001b[0m\u001b[0mend\u001b[0m\u001b[1;33m=\u001b[0m\u001b[1;34m\" \"\u001b[0m\u001b[1;33m)\u001b[0m\u001b[1;33m\u001b[0m\u001b[1;33m\u001b[0m\u001b[0m\n\u001b[0;32m      6\u001b[0m     \u001b[0mprint\u001b[0m\u001b[1;33m(\u001b[0m\u001b[1;33m)\u001b[0m\u001b[1;33m\u001b[0m\u001b[1;33m\u001b[0m\u001b[0m\n\u001b[1;32m----> 7\u001b[1;33m \u001b[0mf1\u001b[0m\u001b[1;33m(\u001b[0m\u001b[1;36m10\u001b[0m\u001b[1;33m,\u001b[0m\u001b[1;36m20\u001b[0m\u001b[1;33m,\u001b[0m\u001b[1;36m30\u001b[0m\u001b[1;33m,\u001b[0m\u001b[1;36m40\u001b[0m\u001b[1;33m,\u001b[0m\u001b[0mn1\u001b[0m\u001b[1;33m=\u001b[0m\u001b[1;36m50\u001b[0m\u001b[1;33m)\u001b[0m\u001b[1;33m\u001b[0m\u001b[1;33m\u001b[0m\u001b[0m\n\u001b[0m",
      "\u001b[1;31mTypeError\u001b[0m: f1() got multiple values for argument 'n1'"
     ]
    }
   ],
   "source": [
    "def f1(n1,*s):\n",
    "    print(\"n1 : \" ,n1)\n",
    "    print(\"S : \",end=\" \")\n",
    "    for i in s:\n",
    "        print(i,end=\" \")\n",
    "    print()\n",
    "f1(10,20,30,40,n1=50)"
   ]
  },
  {
   "cell_type": "code",
   "execution_count": 49,
   "metadata": {},
   "outputs": [
    {
     "name": "stdout",
     "output_type": "stream",
     "text": [
      "n1 :  40\n",
      "S :  10 20 30 \n"
     ]
    }
   ],
   "source": [
    "def f1(*s,n1):\n",
    "    print(\"n1 : \" ,n1)\n",
    "    print(\"S : \",end=\" \")\n",
    "    for i in s:\n",
    "        print(i,end=\" \")\n",
    "    print()\n",
    "f1(10,20,30,n1=40)"
   ]
  },
  {
   "cell_type": "code",
   "execution_count": null,
   "metadata": {},
   "outputs": [],
   "source": []
  }
 ],
 "metadata": {
  "kernelspec": {
   "display_name": "Python 3",
   "language": "python",
   "name": "python3"
  },
  "language_info": {
   "codemirror_mode": {
    "name": "ipython",
    "version": 3
   },
   "file_extension": ".py",
   "mimetype": "text/x-python",
   "name": "python",
   "nbconvert_exporter": "python",
   "pygments_lexer": "ipython3",
   "version": "3.8.5"
  }
 },
 "nbformat": 4,
 "nbformat_minor": 4
}
