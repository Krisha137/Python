{
 "cells": [
  {
   "cell_type": "markdown",
   "metadata": {},
   "source": [
    "#          Unit-2"
   ]
  },
  {
   "cell_type": "markdown",
   "metadata": {},
   "source": [
    "# Conditional Execution and Interation"
   ]
  },
  {
   "cell_type": "markdown",
   "metadata": {},
   "source": [
    "## 1. simple if  "
   ]
  },
  {
   "cell_type": "code",
   "execution_count": 1,
   "metadata": {},
   "outputs": [
    {
     "name": "stdout",
     "output_type": "stream",
     "text": [
      "Enter Name : arman\n",
      "How are you !\n"
     ]
    }
   ],
   "source": [
    "# if condition :\n",
    "#    statement\n",
    "#    _________\n",
    "#    _________\n",
    "\n",
    "name=input(\"Enter Name : \")\n",
    "if name==\"Arman\":\n",
    "    print(\"Hello Arman\")\n",
    "print(\"How are you !\")"
   ]
  },
  {
   "cell_type": "code",
   "execution_count": 3,
   "metadata": {},
   "outputs": [
    {
     "name": "stdout",
     "output_type": "stream",
     "text": [
      "Enter Name : Arman\n",
      "Hello Arman\n",
      "How are you !\n"
     ]
    }
   ],
   "source": [
    "name=input(\"Enter Name : \")\n",
    "if name==\"Arman\":\n",
    "    print(\"Hello Arman\")\n",
    "print(\"How are you !\")"
   ]
  },
  {
   "cell_type": "markdown",
   "metadata": {},
   "source": [
    "## 2. if-else"
   ]
  },
  {
   "cell_type": "code",
   "execution_count": 4,
   "metadata": {},
   "outputs": [
    {
     "name": "stdout",
     "output_type": "stream",
     "text": [
      "Enter Name : arman\n",
      "Hello  arman\n",
      "How are you !\n"
     ]
    }
   ],
   "source": [
    "# if condition :\n",
    "#      Action-1\n",
    "# else:\n",
    "#      Action-2\n",
    "# eg.\n",
    "name=input(\"Enter Name : \")\n",
    "if name==\"Arman\":\n",
    "    print(\"Hello Arman\")\n",
    "else :\n",
    "    print(\"Hello \",name)\n",
    "print(\"How are you !\")"
   ]
  },
  {
   "cell_type": "code",
   "execution_count": 5,
   "metadata": {},
   "outputs": [
    {
     "name": "stdout",
     "output_type": "stream",
     "text": [
      "Enter Name : ayan\n",
      "Hello  ayan\n",
      "How are you !\n"
     ]
    }
   ],
   "source": [
    "name=input(\"Enter Name : \")\n",
    "if name==\"Arman\":\n",
    "    print(\"Hello Arman\")\n",
    "else :\n",
    "    print(\"Hello \",name)\n",
    "print(\"How are you !\")"
   ]
  },
  {
   "cell_type": "markdown",
   "metadata": {},
   "source": [
    "## 3. if-elif-else"
   ]
  },
  {
   "cell_type": "code",
   "execution_count": 6,
   "metadata": {},
   "outputs": [
    {
     "name": "stdout",
     "output_type": "stream",
     "text": [
      "Enter n1 : 10\n",
      "Enter n2 : 20\n",
      "Enter n3 : 30\n",
      "Biggest num :  30\n"
     ]
    }
   ],
   "source": [
    "# if condition 1 :\n",
    "#     Action 1\n",
    "# elif condition 2 :\n",
    "#     Action 2\n",
    "# elif condition 3 :\n",
    "#    Action 3\n",
    "# ______\n",
    "# else:\n",
    "#    defult Action\n",
    "\n",
    "n1=int(input(\"Enter n1 : \"))\n",
    "n2=int(input(\"Enter n2 : \"))\n",
    "n3=int(input(\"Enter n3 : \"))\n",
    "if n1>n2 and n1>n3 :\n",
    "    print(\"Biggest num : \",n1)\n",
    "elif n2>n3 :\n",
    "    print(\"Biggest num : \",n2)\n",
    "else :\n",
    "    print(\"Biggest num : \",n3)"
   ]
  },
  {
   "cell_type": "code",
   "execution_count": 7,
   "metadata": {},
   "outputs": [
    {
     "name": "stdout",
     "output_type": "stream",
     "text": [
      "Enter n1 : 20\n",
      "Enter n2 : 30\n",
      "Enter n3 : 10\n",
      "Biggest num :  30\n"
     ]
    }
   ],
   "source": [
    "n1=int(input(\"Enter n1 : \"))\n",
    "n2=int(input(\"Enter n2 : \"))\n",
    "n3=int(input(\"Enter n3 : \"))\n",
    "if n1>n2 and n1>n3 :\n",
    "    print(\"Biggest num : \",n1)\n",
    "elif n2>n3 :\n",
    "    print(\"Biggest num : \",n2)\n",
    "else :\n",
    "    print(\"Biggest num : \",n3)"
   ]
  },
  {
   "cell_type": "code",
   "execution_count": 8,
   "metadata": {},
   "outputs": [
    {
     "name": "stdout",
     "output_type": "stream",
     "text": [
      "Enter n1 : 30\n",
      "Enter n2 : 20\n",
      "Enter n3 : 10\n",
      "Biggest num :  30\n"
     ]
    }
   ],
   "source": [
    "n1=int(input(\"Enter n1 : \"))\n",
    "n2=int(input(\"Enter n2 : \"))\n",
    "n3=int(input(\"Enter n3 : \"))\n",
    "if n1>n2 and n1>n3 :\n",
    "    print(\"Biggest num : \",n1)\n",
    "elif n2>n3 :\n",
    "    print(\"Biggest num : \",n2)\n",
    "else :\n",
    "    print(\"Biggest num : \",n3)"
   ]
  },
  {
   "cell_type": "markdown",
   "metadata": {},
   "source": [
    "## 4. Nested if"
   ]
  },
  {
   "cell_type": "code",
   "execution_count": 9,
   "metadata": {},
   "outputs": [
    {
     "name": "stdout",
     "output_type": "stream",
     "text": [
      "Above 10\n",
      "Also above 20\n"
     ]
    }
   ],
   "source": [
    "x=41\n",
    "if x>10:\n",
    "    print(\"Above 10\")\n",
    "    if x>20:\n",
    "        print(\"Also above 20\")\n",
    "    else:\n",
    "        print(\"but not above 20\")"
   ]
  },
  {
   "cell_type": "code",
   "execution_count": 10,
   "metadata": {},
   "outputs": [
    {
     "name": "stdout",
     "output_type": "stream",
     "text": [
      "Above 10\n",
      "but not above 20\n"
     ]
    }
   ],
   "source": [
    "x=15\n",
    "if x>10:\n",
    "    print(\"Above 10\")\n",
    "    if x>20:\n",
    "        print(\"Also above 20\")\n",
    "    else:\n",
    "        print(\"but not above 20\")"
   ]
  },
  {
   "cell_type": "markdown",
   "metadata": {},
   "source": [
    "# Loops"
   ]
  },
  {
   "cell_type": "markdown",
   "metadata": {},
   "source": [
    "## 1. for"
   ]
  },
  {
   "cell_type": "code",
   "execution_count": 11,
   "metadata": {},
   "outputs": [
    {
     "name": "stdout",
     "output_type": "stream",
     "text": [
      "0\n",
      "1\n",
      "2\n",
      "3\n",
      "4\n"
     ]
    }
   ],
   "source": [
    "# Syntax ----->\n",
    "# for x in sequence :   (sequence --> list , tuple , ---)\n",
    "#       body\n",
    "\n",
    "for i in range(5):\n",
    "    print(i)"
   ]
  },
  {
   "cell_type": "code",
   "execution_count": 12,
   "metadata": {},
   "outputs": [
    {
     "name": "stdout",
     "output_type": "stream",
     "text": [
      "A\n",
      "r\n",
      "m\n",
      "a\n",
      "n\n"
     ]
    }
   ],
   "source": [
    "s=\"Arman\"\n",
    "for i in s:\n",
    "    print(i)"
   ]
  },
  {
   "cell_type": "code",
   "execution_count": 16,
   "metadata": {},
   "outputs": [
    {
     "name": "stdout",
     "output_type": "stream",
     "text": [
      "A\n",
      "r\n",
      "m\n",
      "a\n",
      "n\n",
      "---------\n",
      "5\n"
     ]
    }
   ],
   "source": [
    "s=\"Arman\"\n",
    "for i in s:\n",
    "    print(i)\n",
    "print(\"---------\")\n",
    "print(len(s))"
   ]
  },
  {
   "cell_type": "code",
   "execution_count": 17,
   "metadata": {},
   "outputs": [
    {
     "name": "stdout",
     "output_type": "stream",
     "text": [
      "1\n",
      "2\n",
      "3\n",
      "4\n",
      "5\n",
      "5\n"
     ]
    }
   ],
   "source": [
    "l=[1,2,3,4,5,5]\n",
    "for i in l:\n",
    "    print(i)"
   ]
  },
  {
   "cell_type": "code",
   "execution_count": 18,
   "metadata": {},
   "outputs": [
    {
     "name": "stdout",
     "output_type": "stream",
     "text": [
      "0\n",
      "1\n",
      "2\n",
      "3\n",
      "4\n",
      "5\n"
     ]
    }
   ],
   "source": [
    "l=[1,2,3,4,5,5]\n",
    "for i in range(len(l)):\n",
    "    print(i)"
   ]
  },
  {
   "cell_type": "code",
   "execution_count": 21,
   "metadata": {},
   "outputs": [
    {
     "name": "stdout",
     "output_type": "stream",
     "text": [
      "1\n",
      "2\n",
      "3\n",
      "4\n",
      "5\n",
      "5\n"
     ]
    }
   ],
   "source": [
    "l=[1,2,3,4,5,5]\n",
    "for i in range(len(l)):\n",
    "    print(l[i])"
   ]
  },
  {
   "cell_type": "code",
   "execution_count": 22,
   "metadata": {},
   "outputs": [
    {
     "ename": "SyntaxError",
     "evalue": "invalid syntax (<ipython-input-22-39ffe6447c9f>, line 2)",
     "output_type": "error",
     "traceback": [
      "\u001b[1;36m  File \u001b[1;32m\"<ipython-input-22-39ffe6447c9f>\"\u001b[1;36m, line \u001b[1;32m2\u001b[0m\n\u001b[1;33m    for i in range(len(l))\u001b[0m\n\u001b[1;37m                          ^\u001b[0m\n\u001b[1;31mSyntaxError\u001b[0m\u001b[1;31m:\u001b[0m invalid syntax\n"
     ]
    }
   ],
   "source": [
    "l=[1,2,3,4,5,5]\n",
    "for i in range(len(l))\n",
    "    print(l[i])"
   ]
  },
  {
   "cell_type": "markdown",
   "metadata": {},
   "source": [
    "## 2. while"
   ]
  },
  {
   "cell_type": "code",
   "execution_count": 1,
   "metadata": {},
   "outputs": [
    {
     "name": "stdout",
     "output_type": "stream",
     "text": [
      "0\n",
      "1\n",
      "2\n",
      "3\n",
      "4\n"
     ]
    }
   ],
   "source": [
    "# while condition :\n",
    "#       body \n",
    "\n",
    "i=0\n",
    "while i<5 :\n",
    "    print(i)\n",
    "    i+=1"
   ]
  },
  {
   "cell_type": "code",
   "execution_count": 3,
   "metadata": {},
   "outputs": [
    {
     "name": "stdout",
     "output_type": "stream",
     "text": [
      "Enter Name : mita\n",
      "Enter Name : arman\n",
      "Enter Name : Arman\n",
      "Thank you for confirmation\n"
     ]
    }
   ],
   "source": [
    "name=\" \"\n",
    "while name != \"Arman\":\n",
    "    name=input(\"Enter Name : \")\n",
    "print(\"Thank you for confirmation\")"
   ]
  },
  {
   "cell_type": "markdown",
   "metadata": {},
   "source": [
    "#  Nested Loops"
   ]
  },
  {
   "cell_type": "code",
   "execution_count": 7,
   "metadata": {},
   "outputs": [
    {
     "name": "stdout",
     "output_type": "stream",
     "text": [
      "0 0\n",
      "0 1\n",
      "0 2\n",
      "1 0\n",
      "1 1\n",
      "1 2\n",
      "2 0\n",
      "2 1\n",
      "2 2\n"
     ]
    }
   ],
   "source": [
    "for i in range(3):\n",
    "    for j in range(3):\n",
    "        print(i,j)"
   ]
  },
  {
   "cell_type": "markdown",
   "metadata": {},
   "source": [
    "# Break Statement"
   ]
  },
  {
   "cell_type": "code",
   "execution_count": 8,
   "metadata": {},
   "outputs": [
    {
     "name": "stdout",
     "output_type": "stream",
     "text": [
      "0\n",
      "1\n",
      "2\n",
      "3\n",
      "4\n",
      "5\n",
      "6\n",
      "STOP\n"
     ]
    }
   ],
   "source": [
    "for i in range(10):\n",
    "    if i==7:\n",
    "        print(\"STOP\")\n",
    "        break\n",
    "    print(i)"
   ]
  },
  {
   "cell_type": "markdown",
   "metadata": {},
   "source": [
    "# Continue Statement"
   ]
  },
  {
   "cell_type": "code",
   "execution_count": 9,
   "metadata": {},
   "outputs": [
    {
     "name": "stdout",
     "output_type": "stream",
     "text": [
      "1\n",
      "3\n",
      "5\n",
      "7\n",
      "9\n"
     ]
    }
   ],
   "source": [
    "for i in range(10):\n",
    "    if i%2==0:\n",
    "        continue\n",
    "    print(i)"
   ]
  },
  {
   "cell_type": "code",
   "execution_count": 10,
   "metadata": {},
   "outputs": [
    {
     "name": "stdout",
     "output_type": "stream",
     "text": [
      "0\n",
      "2\n",
      "4\n",
      "6\n",
      "8\n"
     ]
    }
   ],
   "source": [
    "for i in range(10):\n",
    "    if i%2==1:\n",
    "        continue\n",
    "    print(i)"
   ]
  },
  {
   "cell_type": "markdown",
   "metadata": {},
   "source": [
    "# Pass Statement"
   ]
  },
  {
   "cell_type": "code",
   "execution_count": 11,
   "metadata": {},
   "outputs": [
    {
     "ename": "SyntaxError",
     "evalue": "unexpected EOF while parsing (<ipython-input-11-2c8a33b52dfb>, line 1)",
     "output_type": "error",
     "traceback": [
      "\u001b[1;36m  File \u001b[1;32m\"<ipython-input-11-2c8a33b52dfb>\"\u001b[1;36m, line \u001b[1;32m1\u001b[0m\n\u001b[1;33m    if True:\u001b[0m\n\u001b[1;37m            ^\u001b[0m\n\u001b[1;31mSyntaxError\u001b[0m\u001b[1;31m:\u001b[0m unexpected EOF while parsing\n"
     ]
    }
   ],
   "source": [
    "if True:"
   ]
  },
  {
   "cell_type": "code",
   "execution_count": 12,
   "metadata": {},
   "outputs": [],
   "source": [
    "if True:\n",
    "    pass"
   ]
  },
  {
   "cell_type": "markdown",
   "metadata": {},
   "source": [
    "## WAP to check the given charactor is vowel or consonent "
   ]
  },
  {
   "cell_type": "code",
   "execution_count": 19,
   "metadata": {},
   "outputs": [
    {
     "name": "stdout",
     "output_type": "stream",
     "text": [
      "Enter Charactor : a\n",
      "Charactor is vowel\n"
     ]
    }
   ],
   "source": [
    "a=(input(\"Enter Charactor : \"))\n",
    "v=['a','e','i','o','u','A','E','I','O','U']\n",
    "if a in v:\n",
    "    print(\"Charactor is vowel\")\n",
    "else:\n",
    "    print(\"Cherector is consonent\")"
   ]
  },
  {
   "cell_type": "code",
   "execution_count": 20,
   "metadata": {},
   "outputs": [
    {
     "name": "stdout",
     "output_type": "stream",
     "text": [
      "Enter Charactor : b\n",
      "Charactor is consonent\n"
     ]
    }
   ],
   "source": [
    "a=(input(\"Enter Charactor : \"))\n",
    "v=['a','e','i','o','u','A','E','I','O','U']\n",
    "if a in v:\n",
    "    print(\"Charactor is vowel\")\n",
    "else:\n",
    "    print(\"Charactor is consonent\")"
   ]
  },
  {
   "cell_type": "code",
   "execution_count": 21,
   "metadata": {},
   "outputs": [
    {
     "name": "stdout",
     "output_type": "stream",
     "text": [
      "Enter Charactor : E\n",
      "Charactor is vowel\n"
     ]
    }
   ],
   "source": [
    "a=(input(\"Enter Charactor : \"))\n",
    "v=['a','e','i','o','u','A','E','I','O','U']\n",
    "if a in v:\n",
    "    print(\"Charactor is vowel\")\n",
    "else:\n",
    "    print(\"Cherector is consonent\")"
   ]
  },
  {
   "cell_type": "code",
   "execution_count": 22,
   "metadata": {},
   "outputs": [
    {
     "name": "stdout",
     "output_type": "stream",
     "text": [
      "Enter Charactor : Z\n",
      "Cherector is consonent\n"
     ]
    }
   ],
   "source": [
    "a=(input(\"Enter Charactor : \"))\n",
    "v=['a','e','i','o','u','A','E','I','O','U']\n",
    "if a in v:\n",
    "    print(\"Charactor is vowel\")\n",
    "else:\n",
    "    print(\"Cherector is consonent\")"
   ]
  },
  {
   "cell_type": "code",
   "execution_count": 23,
   "metadata": {},
   "outputs": [
    {
     "name": "stdout",
     "output_type": "stream",
     "text": [
      "Enter Charactor : i\n",
      "Vowel\n"
     ]
    }
   ],
   "source": [
    "# anotner option\n",
    "ch=(input(\"Enter Charactor : \"))\n",
    "if ch in 'aeiouAEIOU':\n",
    "    print(\"Vowel\")\n",
    "else:\n",
    "    print(\"Consonent\")"
   ]
  },
  {
   "cell_type": "markdown",
   "metadata": {},
   "source": [
    "# WAP to design Calculator"
   ]
  },
  {
   "cell_type": "code",
   "execution_count": 26,
   "metadata": {},
   "outputs": [
    {
     "name": "stdout",
     "output_type": "stream",
     "text": [
      "Enter num 1 :2\n",
      "Enter num 2 :4\n",
      "Enter Sign : **\n",
      "16\n"
     ]
    }
   ],
   "source": [
    "a=int(input(\"Enter num 1 :\"))\n",
    "b=int(input(\"Enter num 2 :\"))\n",
    "c=(input(\"Enter Sign : \"))\n",
    "if c=='+':\n",
    "    print(a+b)\n",
    "elif c=='-':\n",
    "    print(a-b)\n",
    "elif c=='*':\n",
    "    print(a*b)\n",
    "elif c=='/':\n",
    "    print(a/b)\n",
    "elif c=='//':\n",
    "    print(a//b)\n",
    "elif c=='**':\n",
    "    print(a**b)\n",
    "elif c=='%':\n",
    "    print(a%b)\n",
    "else :\n",
    "    print(\"Please Enter valid Sign .\")"
   ]
  },
  {
   "cell_type": "code",
   "execution_count": 29,
   "metadata": {},
   "outputs": [
    {
     "name": "stdout",
     "output_type": "stream",
     "text": [
      "Enter num 1 :1\n",
      "Enter num 2 :2\n",
      "Enter Sign : /*\n",
      "Please Enter valid Sign .\n"
     ]
    }
   ],
   "source": [
    "a=int(input(\"Enter num 1 :\"))\n",
    "b=int(input(\"Enter num 2 :\"))\n",
    "c=input(\"Enter Sign : \")\n",
    "if c=='+':\n",
    "    print(a+b)\n",
    "elif c=='-':\n",
    "    print(a-b)\n",
    "elif c=='*':\n",
    "    print(a*b)\n",
    "elif c=='/':\n",
    "    print(a/b)\n",
    "elif c=='//':\n",
    "    print(a//b)\n",
    "elif c=='**':\n",
    "    print(a**b)\n",
    "elif c=='%':\n",
    "    print(a%b)\n",
    "else :\n",
    "    print(\"Please Enter valid Sign .\")"
   ]
  },
  {
   "cell_type": "markdown",
   "metadata": {},
   "source": [
    "# WAP to calculate electricity bill\n",
    "  ## Unit                 Price\n",
    "  ## First 100unit  no charge\n",
    "  ## Next 100unit  Rs.5 per unit\n",
    "  ## After 200unit  Rs.10 per unit"
   ]
  },
  {
   "cell_type": "code",
   "execution_count": 11,
   "metadata": {},
   "outputs": [
    {
     "name": "stdout",
     "output_type": "stream",
     "text": [
      "Enter Unit : 350\n",
      "100 - Free\n",
      "100-200 -  1750\n",
      "200- 350  -  3500\n",
      "Total :  5250\n"
     ]
    }
   ],
   "source": [
    "u=int(input(\"Enter Unit : \"))\n",
    "unit=u\n",
    "charge=0\n",
    "if unit <=100:\n",
    "     print(\"Free\")\n",
    "elif unit >100 and unit<=200:\n",
    "    print(\"100 - Free\")\n",
    "    charge=unit*5\n",
    "    print(\"100-200 - \",charge)\n",
    "elif unit>200:\n",
    "    print(\"100 - Free\")\n",
    "    charge1=unit*5\n",
    "    print(\"100-200 - \",charge1)\n",
    "    charge2=unit*10\n",
    "    print(\"200-\",unit ,\" - \" , charge2)\n",
    "    charge=charge1+charge2\n",
    "else :\n",
    "    print(\"Invalid unit.\")\n",
    "print(\"Total : \",charge)"
   ]
  },
  {
   "cell_type": "markdown",
   "metadata": {},
   "source": [
    "# WAP to check give year is leap year or not"
   ]
  },
  {
   "cell_type": "code",
   "execution_count": 12,
   "metadata": {},
   "outputs": [
    {
     "name": "stdout",
     "output_type": "stream",
     "text": [
      "Enter Year : 2024\n",
      "leap year.\n"
     ]
    }
   ],
   "source": [
    "year=int(input(\"Enter Year : \"))\n",
    "if year%4==0 :\n",
    "    if year%100==0:\n",
    "        if year%400==0:\n",
    "            print(\"Leap Year\")\n",
    "        else:\n",
    "            print(\"Not a leap year.\")\n",
    "    else:\n",
    "        print(\"leap year.\")\n",
    "else:\n",
    "    print(\"Not a leap year.\")"
   ]
  },
  {
   "cell_type": "code",
   "execution_count": 14,
   "metadata": {},
   "outputs": [
    {
     "name": "stdout",
     "output_type": "stream",
     "text": [
      "Enter Year : 2025\n",
      "Not a leap year.\n"
     ]
    }
   ],
   "source": [
    "# another Way\n",
    "year=int(input(\"Enter Year : \"))\n",
    "if(year%4==0 and year%100!=0) or (year %400==0):\n",
    "    print(\"Leap year\")\n",
    "else:\n",
    "    print(\"Not a leap year.\")"
   ]
  },
  {
   "cell_type": "markdown",
   "metadata": {},
   "source": [
    "# WAP to check last digit is 3 or not."
   ]
  },
  {
   "cell_type": "code",
   "execution_count": 19,
   "metadata": {},
   "outputs": [
    {
     "name": "stdout",
     "output_type": "stream",
     "text": [
      "Enter Num : 1226\n",
      "Last digit is dividible by 3.\n"
     ]
    }
   ],
   "source": [
    "d=int(input(\"Enter Num : \"))\n",
    "n=d%10\n",
    "if n%3==0:\n",
    "    print(\"Last digit is dividible by 3.\")\n",
    "else:\n",
    "    print(\"Last digit is not dividible by 3.\")"
   ]
  },
  {
   "cell_type": "code",
   "execution_count": 18,
   "metadata": {},
   "outputs": [
    {
     "name": "stdout",
     "output_type": "stream",
     "text": [
      "Enter Num : 1225\n",
      "Last digit is not dividible by 3.\n"
     ]
    }
   ],
   "source": [
    "d=int(input(\"Enter Num : \"))\n",
    "n=d%10\n",
    "if n%3==0:\n",
    "    print(\"Last digit is dividible by 3.\")\n",
    "else:\n",
    "    print(\"Last digit is not dividible by 3.\")"
   ]
  },
  {
   "cell_type": "markdown",
   "metadata": {},
   "source": [
    "# "
   ]
  },
  {
   "cell_type": "code",
   "execution_count": 21,
   "metadata": {},
   "outputs": [
    {
     "name": "stdout",
     "output_type": "stream",
     "text": [
      "Enter Num : 123\n",
      "Number is not 3\n"
     ]
    }
   ],
   "source": [
    "d=int(input(\"Enter Num : \"))\n",
    "n=d\n",
    "count=0\n",
    "while n>0:\n",
    "    n/=10\n",
    "    count+=1\n",
    "if count==2:\n",
    "    num=d/10\n",
    "    nu=num/10\n",
    "    print(nu)\n",
    "else:\n",
    "    print(\"Number is not 3\")\n",
    "        \n",
    "        \n",
    "    "
   ]
  },
  {
   "cell_type": "code",
   "execution_count": null,
   "metadata": {},
   "outputs": [],
   "source": []
  }
 ],
 "metadata": {
  "kernelspec": {
   "display_name": "Python 3",
   "language": "python",
   "name": "python3"
  },
  "language_info": {
   "codemirror_mode": {
    "name": "ipython",
    "version": 3
   },
   "file_extension": ".py",
   "mimetype": "text/x-python",
   "name": "python",
   "nbconvert_exporter": "python",
   "pygments_lexer": "ipython3",
   "version": "3.8.5"
  }
 },
 "nbformat": 4,
 "nbformat_minor": 4
}
